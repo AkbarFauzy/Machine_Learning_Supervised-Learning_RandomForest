{
  "nbformat": 4,
  "nbformat_minor": 0,
  "metadata": {
    "colab": {
      "name": "Tubes_ML_Supervised Learning_1301194133_1301194115.ipynb",
      "provenance": [],
      "collapsed_sections": [
        "OWYO3JaDVYnU",
        "ph6lpxNiuzAw",
        "imXUQgWV-84r"
      ],
      "toc_visible": true
    },
    "kernelspec": {
      "name": "python3",
      "display_name": "Python 3"
    },
    "language_info": {
      "name": "python"
    },
    "accelerator": "GPU"
  },
  "cells": [
    {
      "cell_type": "code",
      "source": [
        "# import tensorflow as tf\n",
        "# device_name = tf.test.gpu_device_name()\n",
        "# if device_name != '/device:GPU:0':\n",
        "#   raise SystemError('GPU device not found')\n",
        "# print('Found GPU at: {}'.format(device_name))"
      ],
      "metadata": {
        "id": "o-0f2_cvvlYI"
      },
      "execution_count": null,
      "outputs": []
    },
    {
      "cell_type": "code",
      "metadata": {
        "id": "p3o0_2RB-RRq"
      },
      "source": [
        "import numpy as np\n",
        "import pandas as pd\n",
        "import matplotlib.pyplot as plt\n",
        "import seaborn as sns\n",
        "from sklearn.preprocessing import MinMaxScaler\n",
        "from sklearn.ensemble import RandomForestClassifier\n",
        "from sklearn.ensemble import BaggingClassifier\n",
        "from sklearn.model_selection import GridSearchCV\n",
        "from sklearn.model_selection import train_test_split\n",
        "from sklearn import metrics\n",
        "from imblearn.under_sampling import RandomUnderSampler\n",
        "from imblearn.over_sampling import RandomOverSampler\n",
        "# from sklearn.preprocessing import Normalizer\n",
        "# from sklearn.tree import DecisionTreeClassifier\n",
        "# from imblearn.over_sampling import SMOTE\n",
        "# from collections import Counter"
      ],
      "execution_count": null,
      "outputs": []
    },
    {
      "cell_type": "markdown",
      "metadata": {
        "id": "s3PmtFp4VVDe"
      },
      "source": [
        "# Data Train"
      ]
    },
    {
      "cell_type": "code",
      "metadata": {
        "id": "19mod-LDQy-I",
        "colab": {
          "base_uri": "https://localhost:8080/",
          "height": 499
        },
        "outputId": "d2619aa2-dbbc-4f24-95f5-eab02f43d976"
      },
      "source": [
        "data_train = pd.read_excel(\"https://github.com/AkbarFauzy/Machine-Learning-Dataset/blob/main/kendaraan_train%20(1).xlsx?raw=true\")\n",
        "data_train = data_train.set_index('id')\n",
        "data_train"
      ],
      "execution_count": null,
      "outputs": [
        {
          "output_type": "execute_result",
          "data": {
            "text/html": [
              "\n",
              "  <div id=\"df-d83e1cd7-f985-4f0a-90e5-32374c7b6416\">\n",
              "    <div class=\"colab-df-container\">\n",
              "      <div>\n",
              "<style scoped>\n",
              "    .dataframe tbody tr th:only-of-type {\n",
              "        vertical-align: middle;\n",
              "    }\n",
              "\n",
              "    .dataframe tbody tr th {\n",
              "        vertical-align: top;\n",
              "    }\n",
              "\n",
              "    .dataframe thead th {\n",
              "        text-align: right;\n",
              "    }\n",
              "</style>\n",
              "<table border=\"1\" class=\"dataframe\">\n",
              "  <thead>\n",
              "    <tr style=\"text-align: right;\">\n",
              "      <th></th>\n",
              "      <th>Jenis_Kelamin</th>\n",
              "      <th>Umur</th>\n",
              "      <th>SIM</th>\n",
              "      <th>Kode_Daerah</th>\n",
              "      <th>Sudah_Asuransi</th>\n",
              "      <th>Umur_Kendaraan</th>\n",
              "      <th>Kendaraan_Rusak</th>\n",
              "      <th>Premi</th>\n",
              "      <th>Kanal_Penjualan</th>\n",
              "      <th>Lama_Berlangganan</th>\n",
              "      <th>Tertarik</th>\n",
              "    </tr>\n",
              "    <tr>\n",
              "      <th>id</th>\n",
              "      <th></th>\n",
              "      <th></th>\n",
              "      <th></th>\n",
              "      <th></th>\n",
              "      <th></th>\n",
              "      <th></th>\n",
              "      <th></th>\n",
              "      <th></th>\n",
              "      <th></th>\n",
              "      <th></th>\n",
              "      <th></th>\n",
              "    </tr>\n",
              "  </thead>\n",
              "  <tbody>\n",
              "    <tr>\n",
              "      <th>1</th>\n",
              "      <td>Wanita</td>\n",
              "      <td>30.0</td>\n",
              "      <td>1.0</td>\n",
              "      <td>33.0</td>\n",
              "      <td>1.0</td>\n",
              "      <td>&lt; 1 Tahun</td>\n",
              "      <td>Tidak</td>\n",
              "      <td>28029.0</td>\n",
              "      <td>152.0</td>\n",
              "      <td>97.0</td>\n",
              "      <td>0</td>\n",
              "    </tr>\n",
              "    <tr>\n",
              "      <th>2</th>\n",
              "      <td>Pria</td>\n",
              "      <td>48.0</td>\n",
              "      <td>1.0</td>\n",
              "      <td>39.0</td>\n",
              "      <td>0.0</td>\n",
              "      <td>&gt; 2 Tahun</td>\n",
              "      <td>Pernah</td>\n",
              "      <td>25800.0</td>\n",
              "      <td>29.0</td>\n",
              "      <td>158.0</td>\n",
              "      <td>0</td>\n",
              "    </tr>\n",
              "    <tr>\n",
              "      <th>3</th>\n",
              "      <td>NaN</td>\n",
              "      <td>21.0</td>\n",
              "      <td>1.0</td>\n",
              "      <td>46.0</td>\n",
              "      <td>1.0</td>\n",
              "      <td>&lt; 1 Tahun</td>\n",
              "      <td>Tidak</td>\n",
              "      <td>32733.0</td>\n",
              "      <td>160.0</td>\n",
              "      <td>119.0</td>\n",
              "      <td>0</td>\n",
              "    </tr>\n",
              "    <tr>\n",
              "      <th>4</th>\n",
              "      <td>Wanita</td>\n",
              "      <td>58.0</td>\n",
              "      <td>1.0</td>\n",
              "      <td>48.0</td>\n",
              "      <td>0.0</td>\n",
              "      <td>1-2 Tahun</td>\n",
              "      <td>Tidak</td>\n",
              "      <td>2630.0</td>\n",
              "      <td>124.0</td>\n",
              "      <td>63.0</td>\n",
              "      <td>0</td>\n",
              "    </tr>\n",
              "    <tr>\n",
              "      <th>5</th>\n",
              "      <td>Pria</td>\n",
              "      <td>50.0</td>\n",
              "      <td>1.0</td>\n",
              "      <td>35.0</td>\n",
              "      <td>0.0</td>\n",
              "      <td>&gt; 2 Tahun</td>\n",
              "      <td>NaN</td>\n",
              "      <td>34857.0</td>\n",
              "      <td>88.0</td>\n",
              "      <td>194.0</td>\n",
              "      <td>0</td>\n",
              "    </tr>\n",
              "    <tr>\n",
              "      <th>...</th>\n",
              "      <td>...</td>\n",
              "      <td>...</td>\n",
              "      <td>...</td>\n",
              "      <td>...</td>\n",
              "      <td>...</td>\n",
              "      <td>...</td>\n",
              "      <td>...</td>\n",
              "      <td>...</td>\n",
              "      <td>...</td>\n",
              "      <td>...</td>\n",
              "      <td>...</td>\n",
              "    </tr>\n",
              "    <tr>\n",
              "      <th>285827</th>\n",
              "      <td>Wanita</td>\n",
              "      <td>23.0</td>\n",
              "      <td>1.0</td>\n",
              "      <td>4.0</td>\n",
              "      <td>1.0</td>\n",
              "      <td>&lt; 1 Tahun</td>\n",
              "      <td>Tidak</td>\n",
              "      <td>25988.0</td>\n",
              "      <td>152.0</td>\n",
              "      <td>217.0</td>\n",
              "      <td>0</td>\n",
              "    </tr>\n",
              "    <tr>\n",
              "      <th>285828</th>\n",
              "      <td>Wanita</td>\n",
              "      <td>21.0</td>\n",
              "      <td>1.0</td>\n",
              "      <td>46.0</td>\n",
              "      <td>1.0</td>\n",
              "      <td>&lt; 1 Tahun</td>\n",
              "      <td>Tidak</td>\n",
              "      <td>44686.0</td>\n",
              "      <td>152.0</td>\n",
              "      <td>50.0</td>\n",
              "      <td>0</td>\n",
              "    </tr>\n",
              "    <tr>\n",
              "      <th>285829</th>\n",
              "      <td>Wanita</td>\n",
              "      <td>23.0</td>\n",
              "      <td>1.0</td>\n",
              "      <td>50.0</td>\n",
              "      <td>1.0</td>\n",
              "      <td>&lt; 1 Tahun</td>\n",
              "      <td>Tidak</td>\n",
              "      <td>49751.0</td>\n",
              "      <td>152.0</td>\n",
              "      <td>226.0</td>\n",
              "      <td>0</td>\n",
              "    </tr>\n",
              "    <tr>\n",
              "      <th>285830</th>\n",
              "      <td>Pria</td>\n",
              "      <td>68.0</td>\n",
              "      <td>1.0</td>\n",
              "      <td>7.0</td>\n",
              "      <td>1.0</td>\n",
              "      <td>1-2 Tahun</td>\n",
              "      <td>Tidak</td>\n",
              "      <td>30503.0</td>\n",
              "      <td>124.0</td>\n",
              "      <td>270.0</td>\n",
              "      <td>0</td>\n",
              "    </tr>\n",
              "    <tr>\n",
              "      <th>285831</th>\n",
              "      <td>Pria</td>\n",
              "      <td>45.0</td>\n",
              "      <td>1.0</td>\n",
              "      <td>28.0</td>\n",
              "      <td>0.0</td>\n",
              "      <td>1-2 Tahun</td>\n",
              "      <td>Pernah</td>\n",
              "      <td>36480.0</td>\n",
              "      <td>26.0</td>\n",
              "      <td>44.0</td>\n",
              "      <td>0</td>\n",
              "    </tr>\n",
              "  </tbody>\n",
              "</table>\n",
              "<p>285831 rows × 11 columns</p>\n",
              "</div>\n",
              "      <button class=\"colab-df-convert\" onclick=\"convertToInteractive('df-d83e1cd7-f985-4f0a-90e5-32374c7b6416')\"\n",
              "              title=\"Convert this dataframe to an interactive table.\"\n",
              "              style=\"display:none;\">\n",
              "        \n",
              "  <svg xmlns=\"http://www.w3.org/2000/svg\" height=\"24px\"viewBox=\"0 0 24 24\"\n",
              "       width=\"24px\">\n",
              "    <path d=\"M0 0h24v24H0V0z\" fill=\"none\"/>\n",
              "    <path d=\"M18.56 5.44l.94 2.06.94-2.06 2.06-.94-2.06-.94-.94-2.06-.94 2.06-2.06.94zm-11 1L8.5 8.5l.94-2.06 2.06-.94-2.06-.94L8.5 2.5l-.94 2.06-2.06.94zm10 10l.94 2.06.94-2.06 2.06-.94-2.06-.94-.94-2.06-.94 2.06-2.06.94z\"/><path d=\"M17.41 7.96l-1.37-1.37c-.4-.4-.92-.59-1.43-.59-.52 0-1.04.2-1.43.59L10.3 9.45l-7.72 7.72c-.78.78-.78 2.05 0 2.83L4 21.41c.39.39.9.59 1.41.59.51 0 1.02-.2 1.41-.59l7.78-7.78 2.81-2.81c.8-.78.8-2.07 0-2.86zM5.41 20L4 18.59l7.72-7.72 1.47 1.35L5.41 20z\"/>\n",
              "  </svg>\n",
              "      </button>\n",
              "      \n",
              "  <style>\n",
              "    .colab-df-container {\n",
              "      display:flex;\n",
              "      flex-wrap:wrap;\n",
              "      gap: 12px;\n",
              "    }\n",
              "\n",
              "    .colab-df-convert {\n",
              "      background-color: #E8F0FE;\n",
              "      border: none;\n",
              "      border-radius: 50%;\n",
              "      cursor: pointer;\n",
              "      display: none;\n",
              "      fill: #1967D2;\n",
              "      height: 32px;\n",
              "      padding: 0 0 0 0;\n",
              "      width: 32px;\n",
              "    }\n",
              "\n",
              "    .colab-df-convert:hover {\n",
              "      background-color: #E2EBFA;\n",
              "      box-shadow: 0px 1px 2px rgba(60, 64, 67, 0.3), 0px 1px 3px 1px rgba(60, 64, 67, 0.15);\n",
              "      fill: #174EA6;\n",
              "    }\n",
              "\n",
              "    [theme=dark] .colab-df-convert {\n",
              "      background-color: #3B4455;\n",
              "      fill: #D2E3FC;\n",
              "    }\n",
              "\n",
              "    [theme=dark] .colab-df-convert:hover {\n",
              "      background-color: #434B5C;\n",
              "      box-shadow: 0px 1px 3px 1px rgba(0, 0, 0, 0.15);\n",
              "      filter: drop-shadow(0px 1px 2px rgba(0, 0, 0, 0.3));\n",
              "      fill: #FFFFFF;\n",
              "    }\n",
              "  </style>\n",
              "\n",
              "      <script>\n",
              "        const buttonEl =\n",
              "          document.querySelector('#df-d83e1cd7-f985-4f0a-90e5-32374c7b6416 button.colab-df-convert');\n",
              "        buttonEl.style.display =\n",
              "          google.colab.kernel.accessAllowed ? 'block' : 'none';\n",
              "\n",
              "        async function convertToInteractive(key) {\n",
              "          const element = document.querySelector('#df-d83e1cd7-f985-4f0a-90e5-32374c7b6416');\n",
              "          const dataTable =\n",
              "            await google.colab.kernel.invokeFunction('convertToInteractive',\n",
              "                                                     [key], {});\n",
              "          if (!dataTable) return;\n",
              "\n",
              "          const docLinkHtml = 'Like what you see? Visit the ' +\n",
              "            '<a target=\"_blank\" href=https://colab.research.google.com/notebooks/data_table.ipynb>data table notebook</a>'\n",
              "            + ' to learn more about interactive tables.';\n",
              "          element.innerHTML = '';\n",
              "          dataTable['output_type'] = 'display_data';\n",
              "          await google.colab.output.renderOutput(dataTable, element);\n",
              "          const docLink = document.createElement('div');\n",
              "          docLink.innerHTML = docLinkHtml;\n",
              "          element.appendChild(docLink);\n",
              "        }\n",
              "      </script>\n",
              "    </div>\n",
              "  </div>\n",
              "  "
            ],
            "text/plain": [
              "       Jenis_Kelamin  Umur  SIM  ...  Kanal_Penjualan  Lama_Berlangganan Tertarik\n",
              "id                               ...                                             \n",
              "1             Wanita  30.0  1.0  ...            152.0               97.0        0\n",
              "2               Pria  48.0  1.0  ...             29.0              158.0        0\n",
              "3                NaN  21.0  1.0  ...            160.0              119.0        0\n",
              "4             Wanita  58.0  1.0  ...            124.0               63.0        0\n",
              "5               Pria  50.0  1.0  ...             88.0              194.0        0\n",
              "...              ...   ...  ...  ...              ...                ...      ...\n",
              "285827        Wanita  23.0  1.0  ...            152.0              217.0        0\n",
              "285828        Wanita  21.0  1.0  ...            152.0               50.0        0\n",
              "285829        Wanita  23.0  1.0  ...            152.0              226.0        0\n",
              "285830          Pria  68.0  1.0  ...            124.0              270.0        0\n",
              "285831          Pria  45.0  1.0  ...             26.0               44.0        0\n",
              "\n",
              "[285831 rows x 11 columns]"
            ]
          },
          "metadata": {},
          "execution_count": 3
        }
      ]
    },
    {
      "cell_type": "markdown",
      "metadata": {
        "id": "OWYO3JaDVYnU"
      },
      "source": [
        "# Data Test"
      ]
    },
    {
      "cell_type": "code",
      "metadata": {
        "id": "ikCBBEdQVfcM",
        "colab": {
          "base_uri": "https://localhost:8080/",
          "height": 424
        },
        "outputId": "3344e7b8-229e-4f52-9f0b-eeb995ba99fb"
      },
      "source": [
        "data_test = pd.read_excel('https://github.com/AkbarFauzy/Machine-Learning-Dataset/blob/main/kendaraan_test.xlsx?raw=true')\n",
        "data_test"
      ],
      "execution_count": null,
      "outputs": [
        {
          "output_type": "execute_result",
          "data": {
            "text/html": [
              "\n",
              "  <div id=\"df-cea6d2f9-9486-44cc-9c3f-2e3f131e4c04\">\n",
              "    <div class=\"colab-df-container\">\n",
              "      <div>\n",
              "<style scoped>\n",
              "    .dataframe tbody tr th:only-of-type {\n",
              "        vertical-align: middle;\n",
              "    }\n",
              "\n",
              "    .dataframe tbody tr th {\n",
              "        vertical-align: top;\n",
              "    }\n",
              "\n",
              "    .dataframe thead th {\n",
              "        text-align: right;\n",
              "    }\n",
              "</style>\n",
              "<table border=\"1\" class=\"dataframe\">\n",
              "  <thead>\n",
              "    <tr style=\"text-align: right;\">\n",
              "      <th></th>\n",
              "      <th>Jenis_Kelamin</th>\n",
              "      <th>Umur</th>\n",
              "      <th>SIM</th>\n",
              "      <th>Kode_Daerah</th>\n",
              "      <th>Sudah_Asuransi</th>\n",
              "      <th>Umur_Kendaraan</th>\n",
              "      <th>Kendaraan_Rusak</th>\n",
              "      <th>Premi</th>\n",
              "      <th>Kanal_Penjualan</th>\n",
              "      <th>Lama_Berlangganan</th>\n",
              "      <th>Tertarik</th>\n",
              "    </tr>\n",
              "  </thead>\n",
              "  <tbody>\n",
              "    <tr>\n",
              "      <th>0</th>\n",
              "      <td>Wanita</td>\n",
              "      <td>22</td>\n",
              "      <td>1</td>\n",
              "      <td>52</td>\n",
              "      <td>0</td>\n",
              "      <td>1-2 Tahun</td>\n",
              "      <td>Pernah</td>\n",
              "      <td>32895</td>\n",
              "      <td>124</td>\n",
              "      <td>71</td>\n",
              "      <td>1</td>\n",
              "    </tr>\n",
              "    <tr>\n",
              "      <th>1</th>\n",
              "      <td>Pria</td>\n",
              "      <td>54</td>\n",
              "      <td>1</td>\n",
              "      <td>52</td>\n",
              "      <td>0</td>\n",
              "      <td>1-2 Tahun</td>\n",
              "      <td>Pernah</td>\n",
              "      <td>43388</td>\n",
              "      <td>124</td>\n",
              "      <td>198</td>\n",
              "      <td>0</td>\n",
              "    </tr>\n",
              "    <tr>\n",
              "      <th>2</th>\n",
              "      <td>Wanita</td>\n",
              "      <td>24</td>\n",
              "      <td>1</td>\n",
              "      <td>52</td>\n",
              "      <td>0</td>\n",
              "      <td>1-2 Tahun</td>\n",
              "      <td>Pernah</td>\n",
              "      <td>45032</td>\n",
              "      <td>124</td>\n",
              "      <td>171</td>\n",
              "      <td>0</td>\n",
              "    </tr>\n",
              "    <tr>\n",
              "      <th>3</th>\n",
              "      <td>Wanita</td>\n",
              "      <td>78</td>\n",
              "      <td>1</td>\n",
              "      <td>52</td>\n",
              "      <td>0</td>\n",
              "      <td>&gt; 2 Tahun</td>\n",
              "      <td>Pernah</td>\n",
              "      <td>42825</td>\n",
              "      <td>26</td>\n",
              "      <td>208</td>\n",
              "      <td>1</td>\n",
              "    </tr>\n",
              "    <tr>\n",
              "      <th>4</th>\n",
              "      <td>Wanita</td>\n",
              "      <td>45</td>\n",
              "      <td>1</td>\n",
              "      <td>52</td>\n",
              "      <td>0</td>\n",
              "      <td>1-2 Tahun</td>\n",
              "      <td>Pernah</td>\n",
              "      <td>2630</td>\n",
              "      <td>26</td>\n",
              "      <td>228</td>\n",
              "      <td>0</td>\n",
              "    </tr>\n",
              "    <tr>\n",
              "      <th>...</th>\n",
              "      <td>...</td>\n",
              "      <td>...</td>\n",
              "      <td>...</td>\n",
              "      <td>...</td>\n",
              "      <td>...</td>\n",
              "      <td>...</td>\n",
              "      <td>...</td>\n",
              "      <td>...</td>\n",
              "      <td>...</td>\n",
              "      <td>...</td>\n",
              "      <td>...</td>\n",
              "    </tr>\n",
              "    <tr>\n",
              "      <th>47634</th>\n",
              "      <td>Pria</td>\n",
              "      <td>41</td>\n",
              "      <td>1</td>\n",
              "      <td>0</td>\n",
              "      <td>0</td>\n",
              "      <td>1-2 Tahun</td>\n",
              "      <td>Pernah</td>\n",
              "      <td>2630</td>\n",
              "      <td>78</td>\n",
              "      <td>20</td>\n",
              "      <td>0</td>\n",
              "    </tr>\n",
              "    <tr>\n",
              "      <th>47635</th>\n",
              "      <td>Pria</td>\n",
              "      <td>39</td>\n",
              "      <td>1</td>\n",
              "      <td>0</td>\n",
              "      <td>0</td>\n",
              "      <td>1-2 Tahun</td>\n",
              "      <td>Pernah</td>\n",
              "      <td>2630</td>\n",
              "      <td>124</td>\n",
              "      <td>200</td>\n",
              "      <td>0</td>\n",
              "    </tr>\n",
              "    <tr>\n",
              "      <th>47636</th>\n",
              "      <td>Pria</td>\n",
              "      <td>33</td>\n",
              "      <td>1</td>\n",
              "      <td>0</td>\n",
              "      <td>1</td>\n",
              "      <td>&lt; 1 Tahun</td>\n",
              "      <td>Tidak</td>\n",
              "      <td>2630</td>\n",
              "      <td>152</td>\n",
              "      <td>152</td>\n",
              "      <td>0</td>\n",
              "    </tr>\n",
              "    <tr>\n",
              "      <th>47637</th>\n",
              "      <td>Wanita</td>\n",
              "      <td>71</td>\n",
              "      <td>1</td>\n",
              "      <td>0</td>\n",
              "      <td>0</td>\n",
              "      <td>1-2 Tahun</td>\n",
              "      <td>Pernah</td>\n",
              "      <td>2630</td>\n",
              "      <td>25</td>\n",
              "      <td>226</td>\n",
              "      <td>0</td>\n",
              "    </tr>\n",
              "    <tr>\n",
              "      <th>47638</th>\n",
              "      <td>Wanita</td>\n",
              "      <td>32</td>\n",
              "      <td>1</td>\n",
              "      <td>0</td>\n",
              "      <td>1</td>\n",
              "      <td>1-2 Tahun</td>\n",
              "      <td>Tidak</td>\n",
              "      <td>2630</td>\n",
              "      <td>26</td>\n",
              "      <td>202</td>\n",
              "      <td>0</td>\n",
              "    </tr>\n",
              "  </tbody>\n",
              "</table>\n",
              "<p>47639 rows × 11 columns</p>\n",
              "</div>\n",
              "      <button class=\"colab-df-convert\" onclick=\"convertToInteractive('df-cea6d2f9-9486-44cc-9c3f-2e3f131e4c04')\"\n",
              "              title=\"Convert this dataframe to an interactive table.\"\n",
              "              style=\"display:none;\">\n",
              "        \n",
              "  <svg xmlns=\"http://www.w3.org/2000/svg\" height=\"24px\"viewBox=\"0 0 24 24\"\n",
              "       width=\"24px\">\n",
              "    <path d=\"M0 0h24v24H0V0z\" fill=\"none\"/>\n",
              "    <path d=\"M18.56 5.44l.94 2.06.94-2.06 2.06-.94-2.06-.94-.94-2.06-.94 2.06-2.06.94zm-11 1L8.5 8.5l.94-2.06 2.06-.94-2.06-.94L8.5 2.5l-.94 2.06-2.06.94zm10 10l.94 2.06.94-2.06 2.06-.94-2.06-.94-.94-2.06-.94 2.06-2.06.94z\"/><path d=\"M17.41 7.96l-1.37-1.37c-.4-.4-.92-.59-1.43-.59-.52 0-1.04.2-1.43.59L10.3 9.45l-7.72 7.72c-.78.78-.78 2.05 0 2.83L4 21.41c.39.39.9.59 1.41.59.51 0 1.02-.2 1.41-.59l7.78-7.78 2.81-2.81c.8-.78.8-2.07 0-2.86zM5.41 20L4 18.59l7.72-7.72 1.47 1.35L5.41 20z\"/>\n",
              "  </svg>\n",
              "      </button>\n",
              "      \n",
              "  <style>\n",
              "    .colab-df-container {\n",
              "      display:flex;\n",
              "      flex-wrap:wrap;\n",
              "      gap: 12px;\n",
              "    }\n",
              "\n",
              "    .colab-df-convert {\n",
              "      background-color: #E8F0FE;\n",
              "      border: none;\n",
              "      border-radius: 50%;\n",
              "      cursor: pointer;\n",
              "      display: none;\n",
              "      fill: #1967D2;\n",
              "      height: 32px;\n",
              "      padding: 0 0 0 0;\n",
              "      width: 32px;\n",
              "    }\n",
              "\n",
              "    .colab-df-convert:hover {\n",
              "      background-color: #E2EBFA;\n",
              "      box-shadow: 0px 1px 2px rgba(60, 64, 67, 0.3), 0px 1px 3px 1px rgba(60, 64, 67, 0.15);\n",
              "      fill: #174EA6;\n",
              "    }\n",
              "\n",
              "    [theme=dark] .colab-df-convert {\n",
              "      background-color: #3B4455;\n",
              "      fill: #D2E3FC;\n",
              "    }\n",
              "\n",
              "    [theme=dark] .colab-df-convert:hover {\n",
              "      background-color: #434B5C;\n",
              "      box-shadow: 0px 1px 3px 1px rgba(0, 0, 0, 0.15);\n",
              "      filter: drop-shadow(0px 1px 2px rgba(0, 0, 0, 0.3));\n",
              "      fill: #FFFFFF;\n",
              "    }\n",
              "  </style>\n",
              "\n",
              "      <script>\n",
              "        const buttonEl =\n",
              "          document.querySelector('#df-cea6d2f9-9486-44cc-9c3f-2e3f131e4c04 button.colab-df-convert');\n",
              "        buttonEl.style.display =\n",
              "          google.colab.kernel.accessAllowed ? 'block' : 'none';\n",
              "\n",
              "        async function convertToInteractive(key) {\n",
              "          const element = document.querySelector('#df-cea6d2f9-9486-44cc-9c3f-2e3f131e4c04');\n",
              "          const dataTable =\n",
              "            await google.colab.kernel.invokeFunction('convertToInteractive',\n",
              "                                                     [key], {});\n",
              "          if (!dataTable) return;\n",
              "\n",
              "          const docLinkHtml = 'Like what you see? Visit the ' +\n",
              "            '<a target=\"_blank\" href=https://colab.research.google.com/notebooks/data_table.ipynb>data table notebook</a>'\n",
              "            + ' to learn more about interactive tables.';\n",
              "          element.innerHTML = '';\n",
              "          dataTable['output_type'] = 'display_data';\n",
              "          await google.colab.output.renderOutput(dataTable, element);\n",
              "          const docLink = document.createElement('div');\n",
              "          docLink.innerHTML = docLinkHtml;\n",
              "          element.appendChild(docLink);\n",
              "        }\n",
              "      </script>\n",
              "    </div>\n",
              "  </div>\n",
              "  "
            ],
            "text/plain": [
              "      Jenis_Kelamin  Umur  SIM  ...  Kanal_Penjualan  Lama_Berlangganan Tertarik\n",
              "0            Wanita    22    1  ...              124                 71        1\n",
              "1              Pria    54    1  ...              124                198        0\n",
              "2            Wanita    24    1  ...              124                171        0\n",
              "3            Wanita    78    1  ...               26                208        1\n",
              "4            Wanita    45    1  ...               26                228        0\n",
              "...             ...   ...  ...  ...              ...                ...      ...\n",
              "47634          Pria    41    1  ...               78                 20        0\n",
              "47635          Pria    39    1  ...              124                200        0\n",
              "47636          Pria    33    1  ...              152                152        0\n",
              "47637        Wanita    71    1  ...               25                226        0\n",
              "47638        Wanita    32    1  ...               26                202        0\n",
              "\n",
              "[47639 rows x 11 columns]"
            ]
          },
          "metadata": {},
          "execution_count": 4
        }
      ]
    },
    {
      "cell_type": "code",
      "metadata": {
        "id": "f40n4aqupleo"
      },
      "source": [
        "data_test['Jenis_Kelamin'] = data_test['Jenis_Kelamin'].map({'Wanita':0,'Pria':1})\n",
        "data_test['Umur_Kendaraan'] = data_test['Umur_Kendaraan'].map({'< 1 Tahun':0,'1-2 Tahun':1,'> 2 Tahun':2})\n",
        "data_test['Kendaraan_Rusak'] = data_test['Kendaraan_Rusak'].map({'Tidak':0,'Pernah':1})"
      ],
      "execution_count": null,
      "outputs": []
    },
    {
      "cell_type": "code",
      "metadata": {
        "colab": {
          "base_uri": "https://localhost:8080/",
          "height": 424
        },
        "id": "lZhJikmouhK_",
        "outputId": "e4293144-3a67-46fd-8db7-cfd71725c6e4"
      },
      "source": [
        "data_test"
      ],
      "execution_count": null,
      "outputs": [
        {
          "output_type": "execute_result",
          "data": {
            "text/html": [
              "\n",
              "  <div id=\"df-57aa0d47-0656-426e-904c-a9942c57150f\">\n",
              "    <div class=\"colab-df-container\">\n",
              "      <div>\n",
              "<style scoped>\n",
              "    .dataframe tbody tr th:only-of-type {\n",
              "        vertical-align: middle;\n",
              "    }\n",
              "\n",
              "    .dataframe tbody tr th {\n",
              "        vertical-align: top;\n",
              "    }\n",
              "\n",
              "    .dataframe thead th {\n",
              "        text-align: right;\n",
              "    }\n",
              "</style>\n",
              "<table border=\"1\" class=\"dataframe\">\n",
              "  <thead>\n",
              "    <tr style=\"text-align: right;\">\n",
              "      <th></th>\n",
              "      <th>Jenis_Kelamin</th>\n",
              "      <th>Umur</th>\n",
              "      <th>SIM</th>\n",
              "      <th>Kode_Daerah</th>\n",
              "      <th>Sudah_Asuransi</th>\n",
              "      <th>Umur_Kendaraan</th>\n",
              "      <th>Kendaraan_Rusak</th>\n",
              "      <th>Premi</th>\n",
              "      <th>Kanal_Penjualan</th>\n",
              "      <th>Lama_Berlangganan</th>\n",
              "      <th>Tertarik</th>\n",
              "    </tr>\n",
              "  </thead>\n",
              "  <tbody>\n",
              "    <tr>\n",
              "      <th>0</th>\n",
              "      <td>0</td>\n",
              "      <td>22</td>\n",
              "      <td>1</td>\n",
              "      <td>52</td>\n",
              "      <td>0</td>\n",
              "      <td>1</td>\n",
              "      <td>1</td>\n",
              "      <td>32895</td>\n",
              "      <td>124</td>\n",
              "      <td>71</td>\n",
              "      <td>1</td>\n",
              "    </tr>\n",
              "    <tr>\n",
              "      <th>1</th>\n",
              "      <td>1</td>\n",
              "      <td>54</td>\n",
              "      <td>1</td>\n",
              "      <td>52</td>\n",
              "      <td>0</td>\n",
              "      <td>1</td>\n",
              "      <td>1</td>\n",
              "      <td>43388</td>\n",
              "      <td>124</td>\n",
              "      <td>198</td>\n",
              "      <td>0</td>\n",
              "    </tr>\n",
              "    <tr>\n",
              "      <th>2</th>\n",
              "      <td>0</td>\n",
              "      <td>24</td>\n",
              "      <td>1</td>\n",
              "      <td>52</td>\n",
              "      <td>0</td>\n",
              "      <td>1</td>\n",
              "      <td>1</td>\n",
              "      <td>45032</td>\n",
              "      <td>124</td>\n",
              "      <td>171</td>\n",
              "      <td>0</td>\n",
              "    </tr>\n",
              "    <tr>\n",
              "      <th>3</th>\n",
              "      <td>0</td>\n",
              "      <td>78</td>\n",
              "      <td>1</td>\n",
              "      <td>52</td>\n",
              "      <td>0</td>\n",
              "      <td>2</td>\n",
              "      <td>1</td>\n",
              "      <td>42825</td>\n",
              "      <td>26</td>\n",
              "      <td>208</td>\n",
              "      <td>1</td>\n",
              "    </tr>\n",
              "    <tr>\n",
              "      <th>4</th>\n",
              "      <td>0</td>\n",
              "      <td>45</td>\n",
              "      <td>1</td>\n",
              "      <td>52</td>\n",
              "      <td>0</td>\n",
              "      <td>1</td>\n",
              "      <td>1</td>\n",
              "      <td>2630</td>\n",
              "      <td>26</td>\n",
              "      <td>228</td>\n",
              "      <td>0</td>\n",
              "    </tr>\n",
              "    <tr>\n",
              "      <th>...</th>\n",
              "      <td>...</td>\n",
              "      <td>...</td>\n",
              "      <td>...</td>\n",
              "      <td>...</td>\n",
              "      <td>...</td>\n",
              "      <td>...</td>\n",
              "      <td>...</td>\n",
              "      <td>...</td>\n",
              "      <td>...</td>\n",
              "      <td>...</td>\n",
              "      <td>...</td>\n",
              "    </tr>\n",
              "    <tr>\n",
              "      <th>47634</th>\n",
              "      <td>1</td>\n",
              "      <td>41</td>\n",
              "      <td>1</td>\n",
              "      <td>0</td>\n",
              "      <td>0</td>\n",
              "      <td>1</td>\n",
              "      <td>1</td>\n",
              "      <td>2630</td>\n",
              "      <td>78</td>\n",
              "      <td>20</td>\n",
              "      <td>0</td>\n",
              "    </tr>\n",
              "    <tr>\n",
              "      <th>47635</th>\n",
              "      <td>1</td>\n",
              "      <td>39</td>\n",
              "      <td>1</td>\n",
              "      <td>0</td>\n",
              "      <td>0</td>\n",
              "      <td>1</td>\n",
              "      <td>1</td>\n",
              "      <td>2630</td>\n",
              "      <td>124</td>\n",
              "      <td>200</td>\n",
              "      <td>0</td>\n",
              "    </tr>\n",
              "    <tr>\n",
              "      <th>47636</th>\n",
              "      <td>1</td>\n",
              "      <td>33</td>\n",
              "      <td>1</td>\n",
              "      <td>0</td>\n",
              "      <td>1</td>\n",
              "      <td>0</td>\n",
              "      <td>0</td>\n",
              "      <td>2630</td>\n",
              "      <td>152</td>\n",
              "      <td>152</td>\n",
              "      <td>0</td>\n",
              "    </tr>\n",
              "    <tr>\n",
              "      <th>47637</th>\n",
              "      <td>0</td>\n",
              "      <td>71</td>\n",
              "      <td>1</td>\n",
              "      <td>0</td>\n",
              "      <td>0</td>\n",
              "      <td>1</td>\n",
              "      <td>1</td>\n",
              "      <td>2630</td>\n",
              "      <td>25</td>\n",
              "      <td>226</td>\n",
              "      <td>0</td>\n",
              "    </tr>\n",
              "    <tr>\n",
              "      <th>47638</th>\n",
              "      <td>0</td>\n",
              "      <td>32</td>\n",
              "      <td>1</td>\n",
              "      <td>0</td>\n",
              "      <td>1</td>\n",
              "      <td>1</td>\n",
              "      <td>0</td>\n",
              "      <td>2630</td>\n",
              "      <td>26</td>\n",
              "      <td>202</td>\n",
              "      <td>0</td>\n",
              "    </tr>\n",
              "  </tbody>\n",
              "</table>\n",
              "<p>47639 rows × 11 columns</p>\n",
              "</div>\n",
              "      <button class=\"colab-df-convert\" onclick=\"convertToInteractive('df-57aa0d47-0656-426e-904c-a9942c57150f')\"\n",
              "              title=\"Convert this dataframe to an interactive table.\"\n",
              "              style=\"display:none;\">\n",
              "        \n",
              "  <svg xmlns=\"http://www.w3.org/2000/svg\" height=\"24px\"viewBox=\"0 0 24 24\"\n",
              "       width=\"24px\">\n",
              "    <path d=\"M0 0h24v24H0V0z\" fill=\"none\"/>\n",
              "    <path d=\"M18.56 5.44l.94 2.06.94-2.06 2.06-.94-2.06-.94-.94-2.06-.94 2.06-2.06.94zm-11 1L8.5 8.5l.94-2.06 2.06-.94-2.06-.94L8.5 2.5l-.94 2.06-2.06.94zm10 10l.94 2.06.94-2.06 2.06-.94-2.06-.94-.94-2.06-.94 2.06-2.06.94z\"/><path d=\"M17.41 7.96l-1.37-1.37c-.4-.4-.92-.59-1.43-.59-.52 0-1.04.2-1.43.59L10.3 9.45l-7.72 7.72c-.78.78-.78 2.05 0 2.83L4 21.41c.39.39.9.59 1.41.59.51 0 1.02-.2 1.41-.59l7.78-7.78 2.81-2.81c.8-.78.8-2.07 0-2.86zM5.41 20L4 18.59l7.72-7.72 1.47 1.35L5.41 20z\"/>\n",
              "  </svg>\n",
              "      </button>\n",
              "      \n",
              "  <style>\n",
              "    .colab-df-container {\n",
              "      display:flex;\n",
              "      flex-wrap:wrap;\n",
              "      gap: 12px;\n",
              "    }\n",
              "\n",
              "    .colab-df-convert {\n",
              "      background-color: #E8F0FE;\n",
              "      border: none;\n",
              "      border-radius: 50%;\n",
              "      cursor: pointer;\n",
              "      display: none;\n",
              "      fill: #1967D2;\n",
              "      height: 32px;\n",
              "      padding: 0 0 0 0;\n",
              "      width: 32px;\n",
              "    }\n",
              "\n",
              "    .colab-df-convert:hover {\n",
              "      background-color: #E2EBFA;\n",
              "      box-shadow: 0px 1px 2px rgba(60, 64, 67, 0.3), 0px 1px 3px 1px rgba(60, 64, 67, 0.15);\n",
              "      fill: #174EA6;\n",
              "    }\n",
              "\n",
              "    [theme=dark] .colab-df-convert {\n",
              "      background-color: #3B4455;\n",
              "      fill: #D2E3FC;\n",
              "    }\n",
              "\n",
              "    [theme=dark] .colab-df-convert:hover {\n",
              "      background-color: #434B5C;\n",
              "      box-shadow: 0px 1px 3px 1px rgba(0, 0, 0, 0.15);\n",
              "      filter: drop-shadow(0px 1px 2px rgba(0, 0, 0, 0.3));\n",
              "      fill: #FFFFFF;\n",
              "    }\n",
              "  </style>\n",
              "\n",
              "      <script>\n",
              "        const buttonEl =\n",
              "          document.querySelector('#df-57aa0d47-0656-426e-904c-a9942c57150f button.colab-df-convert');\n",
              "        buttonEl.style.display =\n",
              "          google.colab.kernel.accessAllowed ? 'block' : 'none';\n",
              "\n",
              "        async function convertToInteractive(key) {\n",
              "          const element = document.querySelector('#df-57aa0d47-0656-426e-904c-a9942c57150f');\n",
              "          const dataTable =\n",
              "            await google.colab.kernel.invokeFunction('convertToInteractive',\n",
              "                                                     [key], {});\n",
              "          if (!dataTable) return;\n",
              "\n",
              "          const docLinkHtml = 'Like what you see? Visit the ' +\n",
              "            '<a target=\"_blank\" href=https://colab.research.google.com/notebooks/data_table.ipynb>data table notebook</a>'\n",
              "            + ' to learn more about interactive tables.';\n",
              "          element.innerHTML = '';\n",
              "          dataTable['output_type'] = 'display_data';\n",
              "          await google.colab.output.renderOutput(dataTable, element);\n",
              "          const docLink = document.createElement('div');\n",
              "          docLink.innerHTML = docLinkHtml;\n",
              "          element.appendChild(docLink);\n",
              "        }\n",
              "      </script>\n",
              "    </div>\n",
              "  </div>\n",
              "  "
            ],
            "text/plain": [
              "       Jenis_Kelamin  Umur  SIM  ...  Kanal_Penjualan  Lama_Berlangganan  Tertarik\n",
              "0                  0    22    1  ...              124                 71         1\n",
              "1                  1    54    1  ...              124                198         0\n",
              "2                  0    24    1  ...              124                171         0\n",
              "3                  0    78    1  ...               26                208         1\n",
              "4                  0    45    1  ...               26                228         0\n",
              "...              ...   ...  ...  ...              ...                ...       ...\n",
              "47634              1    41    1  ...               78                 20         0\n",
              "47635              1    39    1  ...              124                200         0\n",
              "47636              1    33    1  ...              152                152         0\n",
              "47637              0    71    1  ...               25                226         0\n",
              "47638              0    32    1  ...               26                202         0\n",
              "\n",
              "[47639 rows x 11 columns]"
            ]
          },
          "metadata": {},
          "execution_count": 6
        }
      ]
    },
    {
      "cell_type": "markdown",
      "metadata": {
        "id": "qczNQkFC4G9O"
      },
      "source": [
        "# Data Preprocessing"
      ]
    },
    {
      "cell_type": "markdown",
      "metadata": {
        "id": "P56aqVP04B3N"
      },
      "source": [
        "## Changing String Feature to Numeric"
      ]
    },
    {
      "cell_type": "code",
      "metadata": {
        "id": "xsb1jC5GvXya"
      },
      "source": [
        "data_train['Jenis_Kelamin'] = data_train['Jenis_Kelamin'].map({'Wanita':0,'Pria':1})\n",
        "data_train['Umur_Kendaraan'] = data_train['Umur_Kendaraan'].map({'< 1 Tahun':0,'1-2 Tahun':1,'> 2 Tahun':2})\n",
        "data_train['Kendaraan_Rusak'] = data_train['Kendaraan_Rusak'].map({'Tidak':0,'Pernah':1})"
      ],
      "execution_count": null,
      "outputs": []
    },
    {
      "cell_type": "code",
      "metadata": {
        "id": "38_uwNNMYMQ9",
        "colab": {
          "base_uri": "https://localhost:8080/",
          "height": 364
        },
        "outputId": "e623175e-dbc2-4fef-f842-f0ce14d5198c"
      },
      "source": [
        "data_train.describe()"
      ],
      "execution_count": null,
      "outputs": [
        {
          "output_type": "execute_result",
          "data": {
            "text/html": [
              "\n",
              "  <div id=\"df-e9a4f8d5-70de-4c5c-9741-f13769b28017\">\n",
              "    <div class=\"colab-df-container\">\n",
              "      <div>\n",
              "<style scoped>\n",
              "    .dataframe tbody tr th:only-of-type {\n",
              "        vertical-align: middle;\n",
              "    }\n",
              "\n",
              "    .dataframe tbody tr th {\n",
              "        vertical-align: top;\n",
              "    }\n",
              "\n",
              "    .dataframe thead th {\n",
              "        text-align: right;\n",
              "    }\n",
              "</style>\n",
              "<table border=\"1\" class=\"dataframe\">\n",
              "  <thead>\n",
              "    <tr style=\"text-align: right;\">\n",
              "      <th></th>\n",
              "      <th>Jenis_Kelamin</th>\n",
              "      <th>Umur</th>\n",
              "      <th>SIM</th>\n",
              "      <th>Kode_Daerah</th>\n",
              "      <th>Sudah_Asuransi</th>\n",
              "      <th>Umur_Kendaraan</th>\n",
              "      <th>Kendaraan_Rusak</th>\n",
              "      <th>Premi</th>\n",
              "      <th>Kanal_Penjualan</th>\n",
              "      <th>Lama_Berlangganan</th>\n",
              "      <th>Tertarik</th>\n",
              "    </tr>\n",
              "  </thead>\n",
              "  <tbody>\n",
              "    <tr>\n",
              "      <th>count</th>\n",
              "      <td>271391.000000</td>\n",
              "      <td>271617.000000</td>\n",
              "      <td>271427.000000</td>\n",
              "      <td>271525.000000</td>\n",
              "      <td>271602.000000</td>\n",
              "      <td>271556.000000</td>\n",
              "      <td>271643.000000</td>\n",
              "      <td>271262.000000</td>\n",
              "      <td>271532.000000</td>\n",
              "      <td>271839.000000</td>\n",
              "      <td>285831.000000</td>\n",
              "    </tr>\n",
              "    <tr>\n",
              "      <th>mean</th>\n",
              "      <td>0.540467</td>\n",
              "      <td>38.844336</td>\n",
              "      <td>0.997848</td>\n",
              "      <td>26.405410</td>\n",
              "      <td>0.458778</td>\n",
              "      <td>0.609801</td>\n",
              "      <td>0.504791</td>\n",
              "      <td>30536.683472</td>\n",
              "      <td>112.021567</td>\n",
              "      <td>154.286302</td>\n",
              "      <td>0.122471</td>\n",
              "    </tr>\n",
              "    <tr>\n",
              "      <th>std</th>\n",
              "      <td>0.498361</td>\n",
              "      <td>15.522487</td>\n",
              "      <td>0.046335</td>\n",
              "      <td>13.252714</td>\n",
              "      <td>0.498299</td>\n",
              "      <td>0.567478</td>\n",
              "      <td>0.499978</td>\n",
              "      <td>17155.000770</td>\n",
              "      <td>54.202457</td>\n",
              "      <td>83.694910</td>\n",
              "      <td>0.327830</td>\n",
              "    </tr>\n",
              "    <tr>\n",
              "      <th>min</th>\n",
              "      <td>0.000000</td>\n",
              "      <td>20.000000</td>\n",
              "      <td>0.000000</td>\n",
              "      <td>0.000000</td>\n",
              "      <td>0.000000</td>\n",
              "      <td>0.000000</td>\n",
              "      <td>0.000000</td>\n",
              "      <td>2630.000000</td>\n",
              "      <td>1.000000</td>\n",
              "      <td>10.000000</td>\n",
              "      <td>0.000000</td>\n",
              "    </tr>\n",
              "    <tr>\n",
              "      <th>25%</th>\n",
              "      <td>0.000000</td>\n",
              "      <td>25.000000</td>\n",
              "      <td>1.000000</td>\n",
              "      <td>15.000000</td>\n",
              "      <td>0.000000</td>\n",
              "      <td>0.000000</td>\n",
              "      <td>0.000000</td>\n",
              "      <td>24398.000000</td>\n",
              "      <td>29.000000</td>\n",
              "      <td>82.000000</td>\n",
              "      <td>0.000000</td>\n",
              "    </tr>\n",
              "    <tr>\n",
              "      <th>50%</th>\n",
              "      <td>1.000000</td>\n",
              "      <td>36.000000</td>\n",
              "      <td>1.000000</td>\n",
              "      <td>28.000000</td>\n",
              "      <td>0.000000</td>\n",
              "      <td>1.000000</td>\n",
              "      <td>1.000000</td>\n",
              "      <td>31646.000000</td>\n",
              "      <td>132.000000</td>\n",
              "      <td>154.000000</td>\n",
              "      <td>0.000000</td>\n",
              "    </tr>\n",
              "    <tr>\n",
              "      <th>75%</th>\n",
              "      <td>1.000000</td>\n",
              "      <td>49.000000</td>\n",
              "      <td>1.000000</td>\n",
              "      <td>35.000000</td>\n",
              "      <td>1.000000</td>\n",
              "      <td>1.000000</td>\n",
              "      <td>1.000000</td>\n",
              "      <td>39377.750000</td>\n",
              "      <td>152.000000</td>\n",
              "      <td>227.000000</td>\n",
              "      <td>0.000000</td>\n",
              "    </tr>\n",
              "    <tr>\n",
              "      <th>max</th>\n",
              "      <td>1.000000</td>\n",
              "      <td>85.000000</td>\n",
              "      <td>1.000000</td>\n",
              "      <td>52.000000</td>\n",
              "      <td>1.000000</td>\n",
              "      <td>2.000000</td>\n",
              "      <td>1.000000</td>\n",
              "      <td>540165.000000</td>\n",
              "      <td>163.000000</td>\n",
              "      <td>299.000000</td>\n",
              "      <td>1.000000</td>\n",
              "    </tr>\n",
              "  </tbody>\n",
              "</table>\n",
              "</div>\n",
              "      <button class=\"colab-df-convert\" onclick=\"convertToInteractive('df-e9a4f8d5-70de-4c5c-9741-f13769b28017')\"\n",
              "              title=\"Convert this dataframe to an interactive table.\"\n",
              "              style=\"display:none;\">\n",
              "        \n",
              "  <svg xmlns=\"http://www.w3.org/2000/svg\" height=\"24px\"viewBox=\"0 0 24 24\"\n",
              "       width=\"24px\">\n",
              "    <path d=\"M0 0h24v24H0V0z\" fill=\"none\"/>\n",
              "    <path d=\"M18.56 5.44l.94 2.06.94-2.06 2.06-.94-2.06-.94-.94-2.06-.94 2.06-2.06.94zm-11 1L8.5 8.5l.94-2.06 2.06-.94-2.06-.94L8.5 2.5l-.94 2.06-2.06.94zm10 10l.94 2.06.94-2.06 2.06-.94-2.06-.94-.94-2.06-.94 2.06-2.06.94z\"/><path d=\"M17.41 7.96l-1.37-1.37c-.4-.4-.92-.59-1.43-.59-.52 0-1.04.2-1.43.59L10.3 9.45l-7.72 7.72c-.78.78-.78 2.05 0 2.83L4 21.41c.39.39.9.59 1.41.59.51 0 1.02-.2 1.41-.59l7.78-7.78 2.81-2.81c.8-.78.8-2.07 0-2.86zM5.41 20L4 18.59l7.72-7.72 1.47 1.35L5.41 20z\"/>\n",
              "  </svg>\n",
              "      </button>\n",
              "      \n",
              "  <style>\n",
              "    .colab-df-container {\n",
              "      display:flex;\n",
              "      flex-wrap:wrap;\n",
              "      gap: 12px;\n",
              "    }\n",
              "\n",
              "    .colab-df-convert {\n",
              "      background-color: #E8F0FE;\n",
              "      border: none;\n",
              "      border-radius: 50%;\n",
              "      cursor: pointer;\n",
              "      display: none;\n",
              "      fill: #1967D2;\n",
              "      height: 32px;\n",
              "      padding: 0 0 0 0;\n",
              "      width: 32px;\n",
              "    }\n",
              "\n",
              "    .colab-df-convert:hover {\n",
              "      background-color: #E2EBFA;\n",
              "      box-shadow: 0px 1px 2px rgba(60, 64, 67, 0.3), 0px 1px 3px 1px rgba(60, 64, 67, 0.15);\n",
              "      fill: #174EA6;\n",
              "    }\n",
              "\n",
              "    [theme=dark] .colab-df-convert {\n",
              "      background-color: #3B4455;\n",
              "      fill: #D2E3FC;\n",
              "    }\n",
              "\n",
              "    [theme=dark] .colab-df-convert:hover {\n",
              "      background-color: #434B5C;\n",
              "      box-shadow: 0px 1px 3px 1px rgba(0, 0, 0, 0.15);\n",
              "      filter: drop-shadow(0px 1px 2px rgba(0, 0, 0, 0.3));\n",
              "      fill: #FFFFFF;\n",
              "    }\n",
              "  </style>\n",
              "\n",
              "      <script>\n",
              "        const buttonEl =\n",
              "          document.querySelector('#df-e9a4f8d5-70de-4c5c-9741-f13769b28017 button.colab-df-convert');\n",
              "        buttonEl.style.display =\n",
              "          google.colab.kernel.accessAllowed ? 'block' : 'none';\n",
              "\n",
              "        async function convertToInteractive(key) {\n",
              "          const element = document.querySelector('#df-e9a4f8d5-70de-4c5c-9741-f13769b28017');\n",
              "          const dataTable =\n",
              "            await google.colab.kernel.invokeFunction('convertToInteractive',\n",
              "                                                     [key], {});\n",
              "          if (!dataTable) return;\n",
              "\n",
              "          const docLinkHtml = 'Like what you see? Visit the ' +\n",
              "            '<a target=\"_blank\" href=https://colab.research.google.com/notebooks/data_table.ipynb>data table notebook</a>'\n",
              "            + ' to learn more about interactive tables.';\n",
              "          element.innerHTML = '';\n",
              "          dataTable['output_type'] = 'display_data';\n",
              "          await google.colab.output.renderOutput(dataTable, element);\n",
              "          const docLink = document.createElement('div');\n",
              "          docLink.innerHTML = docLinkHtml;\n",
              "          element.appendChild(docLink);\n",
              "        }\n",
              "      </script>\n",
              "    </div>\n",
              "  </div>\n",
              "  "
            ],
            "text/plain": [
              "       Jenis_Kelamin           Umur  ...  Lama_Berlangganan       Tertarik\n",
              "count  271391.000000  271617.000000  ...      271839.000000  285831.000000\n",
              "mean        0.540467      38.844336  ...         154.286302       0.122471\n",
              "std         0.498361      15.522487  ...          83.694910       0.327830\n",
              "min         0.000000      20.000000  ...          10.000000       0.000000\n",
              "25%         0.000000      25.000000  ...          82.000000       0.000000\n",
              "50%         1.000000      36.000000  ...         154.000000       0.000000\n",
              "75%         1.000000      49.000000  ...         227.000000       0.000000\n",
              "max         1.000000      85.000000  ...         299.000000       1.000000\n",
              "\n",
              "[8 rows x 11 columns]"
            ]
          },
          "metadata": {},
          "execution_count": 8
        }
      ]
    },
    {
      "cell_type": "markdown",
      "source": [
        "## Dealing with Null Value"
      ],
      "metadata": {
        "id": "_7zjBKfC0H5z"
      }
    },
    {
      "cell_type": "code",
      "source": [
        "data_train.isna().sum()"
      ],
      "metadata": {
        "colab": {
          "base_uri": "https://localhost:8080/"
        },
        "id": "JYiDnfy-yuJH",
        "outputId": "09344898-e997-4ea9-cbb3-86d7ffccf164"
      },
      "execution_count": null,
      "outputs": [
        {
          "output_type": "execute_result",
          "data": {
            "text/plain": [
              "Jenis_Kelamin        14440\n",
              "Umur                 14214\n",
              "SIM                  14404\n",
              "Kode_Daerah          14306\n",
              "Sudah_Asuransi       14229\n",
              "Umur_Kendaraan       14275\n",
              "Kendaraan_Rusak      14188\n",
              "Premi                14569\n",
              "Kanal_Penjualan      14299\n",
              "Lama_Berlangganan    13992\n",
              "Tertarik                 0\n",
              "dtype: int64"
            ]
          },
          "metadata": {},
          "execution_count": 9
        }
      ]
    },
    {
      "cell_type": "code",
      "source": [
        "sns.heatmap(data_train.isnull(),yticklabels=False,cbar=False)"
      ],
      "metadata": {
        "colab": {
          "base_uri": "https://localhost:8080/",
          "height": 375
        },
        "id": "NBtJyajfzSS8",
        "outputId": "523cd9c8-74f1-4972-cc90-0ba393e09abc"
      },
      "execution_count": null,
      "outputs": [
        {
          "output_type": "execute_result",
          "data": {
            "text/plain": [
              "<matplotlib.axes._subplots.AxesSubplot at 0x7f33567e6750>"
            ]
          },
          "metadata": {},
          "execution_count": 10
        },
        {
          "output_type": "display_data",
          "data": {
            "image/png": "[encoded data removed]",
            "text/plain": [
              "<Figure size 432x288 with 1 Axes>"
            ]
          },
          "metadata": {
            "needs_background": "light"
          }
        }
      ]
    },
    {
      "cell_type": "markdown",
      "metadata": {
        "id": "c1A-lzNH9kxR"
      },
      "source": [
        "### Filling Categorial Columns with Mode"
      ]
    },
    {
      "cell_type": "code",
      "metadata": {
        "id": "2d9VLg5f4RHi"
      },
      "source": [
        "# Mengisi Categorial Features dengan Mode\n",
        "data_train['Jenis_Kelamin'].fillna(value=data_train['Jenis_Kelamin'].mode()[0],inplace=True)\n",
        "data_train['SIM'].fillna(value=data_train['SIM'].mode()[0],inplace=True)\n",
        "data_train['Kode_Daerah'].fillna(value=data_train['Kode_Daerah'].mode()[0],inplace=True)\n",
        "data_train['Sudah_Asuransi'].fillna(value=data_train['Sudah_Asuransi'].mode()[0],inplace=True)\n",
        "data_train['Umur_Kendaraan'].fillna(value=data_train['Umur_Kendaraan'].mode()[0],inplace=True)\n",
        "data_train['Kendaraan_Rusak'].fillna(value=data_train['Kendaraan_Rusak'].mode()[0],inplace=True)\n",
        "data_train['Kanal_Penjualan'].fillna(value=data_train['Kanal_Penjualan'].mode()[0],inplace=True)"
      ],
      "execution_count": null,
      "outputs": []
    },
    {
      "cell_type": "markdown",
      "source": [
        "### Filling Nominal Columns with Mean"
      ],
      "metadata": {
        "id": "UwdNf0GWzC2C"
      }
    },
    {
      "cell_type": "code",
      "metadata": {
        "id": "AUg7CYkM9qkv"
      },
      "source": [
        "# Mnegisi Nominal Features dengan Mode\n",
        "data_train['Umur'].fillna(value=data_train['Umur'].mean(), inplace=True)\n",
        "data_train['Premi'].fillna(value=data_train['Premi'].mean(), inplace=True)\n",
        "data_train['Lama_Berlangganan'].fillna(value=data_train['Lama_Berlangganan'].mean(), inplace=True)"
      ],
      "execution_count": null,
      "outputs": []
    },
    {
      "cell_type": "code",
      "metadata": {
        "id": "pxw2xSCTPcMt",
        "colab": {
          "base_uri": "https://localhost:8080/",
          "height": 364
        },
        "outputId": "8d7932aa-cbae-41ba-db86-8abcc2f8ad19"
      },
      "source": [
        "data_train.describe()"
      ],
      "execution_count": null,
      "outputs": [
        {
          "output_type": "execute_result",
          "data": {
            "text/html": [
              "\n",
              "  <div id=\"df-34a69b69-7bad-48a3-ada6-049295767286\">\n",
              "    <div class=\"colab-df-container\">\n",
              "      <div>\n",
              "<style scoped>\n",
              "    .dataframe tbody tr th:only-of-type {\n",
              "        vertical-align: middle;\n",
              "    }\n",
              "\n",
              "    .dataframe tbody tr th {\n",
              "        vertical-align: top;\n",
              "    }\n",
              "\n",
              "    .dataframe thead th {\n",
              "        text-align: right;\n",
              "    }\n",
              "</style>\n",
              "<table border=\"1\" class=\"dataframe\">\n",
              "  <thead>\n",
              "    <tr style=\"text-align: right;\">\n",
              "      <th></th>\n",
              "      <th>Jenis_Kelamin</th>\n",
              "      <th>Umur</th>\n",
              "      <th>SIM</th>\n",
              "      <th>Kode_Daerah</th>\n",
              "      <th>Sudah_Asuransi</th>\n",
              "      <th>Umur_Kendaraan</th>\n",
              "      <th>Kendaraan_Rusak</th>\n",
              "      <th>Premi</th>\n",
              "      <th>Kanal_Penjualan</th>\n",
              "      <th>Lama_Berlangganan</th>\n",
              "      <th>Tertarik</th>\n",
              "    </tr>\n",
              "  </thead>\n",
              "  <tbody>\n",
              "    <tr>\n",
              "      <th>count</th>\n",
              "      <td>285831.000000</td>\n",
              "      <td>285831.000000</td>\n",
              "      <td>285831.000000</td>\n",
              "      <td>285831.000000</td>\n",
              "      <td>285831.000000</td>\n",
              "      <td>285831.000000</td>\n",
              "      <td>285831.000000</td>\n",
              "      <td>285831.000000</td>\n",
              "      <td>285831.000000</td>\n",
              "      <td>285831.000000</td>\n",
              "      <td>285831.000000</td>\n",
              "    </tr>\n",
              "    <tr>\n",
              "      <th>mean</th>\n",
              "      <td>0.563683</td>\n",
              "      <td>38.844336</td>\n",
              "      <td>0.997957</td>\n",
              "      <td>26.485220</td>\n",
              "      <td>0.435939</td>\n",
              "      <td>0.629288</td>\n",
              "      <td>0.529372</td>\n",
              "      <td>30536.683472</td>\n",
              "      <td>114.021530</td>\n",
              "      <td>154.286302</td>\n",
              "      <td>0.122471</td>\n",
              "    </tr>\n",
              "    <tr>\n",
              "      <th>std</th>\n",
              "      <td>0.495929</td>\n",
              "      <td>15.131608</td>\n",
              "      <td>0.045155</td>\n",
              "      <td>12.921482</td>\n",
              "      <td>0.495880</td>\n",
              "      <td>0.559618</td>\n",
              "      <td>0.499137</td>\n",
              "      <td>16712.080405</td>\n",
              "      <td>53.543345</td>\n",
              "      <td>81.620684</td>\n",
              "      <td>0.327830</td>\n",
              "    </tr>\n",
              "    <tr>\n",
              "      <th>min</th>\n",
              "      <td>0.000000</td>\n",
              "      <td>20.000000</td>\n",
              "      <td>0.000000</td>\n",
              "      <td>0.000000</td>\n",
              "      <td>0.000000</td>\n",
              "      <td>0.000000</td>\n",
              "      <td>0.000000</td>\n",
              "      <td>2630.000000</td>\n",
              "      <td>1.000000</td>\n",
              "      <td>10.000000</td>\n",
              "      <td>0.000000</td>\n",
              "    </tr>\n",
              "    <tr>\n",
              "      <th>25%</th>\n",
              "      <td>0.000000</td>\n",
              "      <td>25.000000</td>\n",
              "      <td>1.000000</td>\n",
              "      <td>15.000000</td>\n",
              "      <td>0.000000</td>\n",
              "      <td>0.000000</td>\n",
              "      <td>0.000000</td>\n",
              "      <td>24929.000000</td>\n",
              "      <td>55.000000</td>\n",
              "      <td>85.000000</td>\n",
              "      <td>0.000000</td>\n",
              "    </tr>\n",
              "    <tr>\n",
              "      <th>50%</th>\n",
              "      <td>1.000000</td>\n",
              "      <td>38.000000</td>\n",
              "      <td>1.000000</td>\n",
              "      <td>28.000000</td>\n",
              "      <td>0.000000</td>\n",
              "      <td>1.000000</td>\n",
              "      <td>1.000000</td>\n",
              "      <td>30949.000000</td>\n",
              "      <td>152.000000</td>\n",
              "      <td>154.286302</td>\n",
              "      <td>0.000000</td>\n",
              "    </tr>\n",
              "    <tr>\n",
              "      <th>75%</th>\n",
              "      <td>1.000000</td>\n",
              "      <td>49.000000</td>\n",
              "      <td>1.000000</td>\n",
              "      <td>35.000000</td>\n",
              "      <td>1.000000</td>\n",
              "      <td>1.000000</td>\n",
              "      <td>1.000000</td>\n",
              "      <td>38845.000000</td>\n",
              "      <td>152.000000</td>\n",
              "      <td>223.000000</td>\n",
              "      <td>0.000000</td>\n",
              "    </tr>\n",
              "    <tr>\n",
              "      <th>max</th>\n",
              "      <td>1.000000</td>\n",
              "      <td>85.000000</td>\n",
              "      <td>1.000000</td>\n",
              "      <td>52.000000</td>\n",
              "      <td>1.000000</td>\n",
              "      <td>2.000000</td>\n",
              "      <td>1.000000</td>\n",
              "      <td>540165.000000</td>\n",
              "      <td>163.000000</td>\n",
              "      <td>299.000000</td>\n",
              "      <td>1.000000</td>\n",
              "    </tr>\n",
              "  </tbody>\n",
              "</table>\n",
              "</div>\n",
              "      <button class=\"colab-df-convert\" onclick=\"convertToInteractive('df-34a69b69-7bad-48a3-ada6-049295767286')\"\n",
              "              title=\"Convert this dataframe to an interactive table.\"\n",
              "              style=\"display:none;\">\n",
              "        \n",
              "  <svg xmlns=\"http://www.w3.org/2000/svg\" height=\"24px\"viewBox=\"0 0 24 24\"\n",
              "       width=\"24px\">\n",
              "    <path d=\"M0 0h24v24H0V0z\" fill=\"none\"/>\n",
              "    <path d=\"M18.56 5.44l.94 2.06.94-2.06 2.06-.94-2.06-.94-.94-2.06-.94 2.06-2.06.94zm-11 1L8.5 8.5l.94-2.06 2.06-.94-2.06-.94L8.5 2.5l-.94 2.06-2.06.94zm10 10l.94 2.06.94-2.06 2.06-.94-2.06-.94-.94-2.06-.94 2.06-2.06.94z\"/><path d=\"M17.41 7.96l-1.37-1.37c-.4-.4-.92-.59-1.43-.59-.52 0-1.04.2-1.43.59L10.3 9.45l-7.72 7.72c-.78.78-.78 2.05 0 2.83L4 21.41c.39.39.9.59 1.41.59.51 0 1.02-.2 1.41-.59l7.78-7.78 2.81-2.81c.8-.78.8-2.07 0-2.86zM5.41 20L4 18.59l7.72-7.72 1.47 1.35L5.41 20z\"/>\n",
              "  </svg>\n",
              "      </button>\n",
              "      \n",
              "  <style>\n",
              "    .colab-df-container {\n",
              "      display:flex;\n",
              "      flex-wrap:wrap;\n",
              "      gap: 12px;\n",
              "    }\n",
              "\n",
              "    .colab-df-convert {\n",
              "      background-color: #E8F0FE;\n",
              "      border: none;\n",
              "      border-radius: 50%;\n",
              "      cursor: pointer;\n",
              "      display: none;\n",
              "      fill: #1967D2;\n",
              "      height: 32px;\n",
              "      padding: 0 0 0 0;\n",
              "      width: 32px;\n",
              "    }\n",
              "\n",
              "    .colab-df-convert:hover {\n",
              "      background-color: #E2EBFA;\n",
              "      box-shadow: 0px 1px 2px rgba(60, 64, 67, 0.3), 0px 1px 3px 1px rgba(60, 64, 67, 0.15);\n",
              "      fill: #174EA6;\n",
              "    }\n",
              "\n",
              "    [theme=dark] .colab-df-convert {\n",
              "      background-color: #3B4455;\n",
              "      fill: #D2E3FC;\n",
              "    }\n",
              "\n",
              "    [theme=dark] .colab-df-convert:hover {\n",
              "      background-color: #434B5C;\n",
              "      box-shadow: 0px 1px 3px 1px rgba(0, 0, 0, 0.15);\n",
              "      filter: drop-shadow(0px 1px 2px rgba(0, 0, 0, 0.3));\n",
              "      fill: #FFFFFF;\n",
              "    }\n",
              "  </style>\n",
              "\n",
              "      <script>\n",
              "        const buttonEl =\n",
              "          document.querySelector('#df-34a69b69-7bad-48a3-ada6-049295767286 button.colab-df-convert');\n",
              "        buttonEl.style.display =\n",
              "          google.colab.kernel.accessAllowed ? 'block' : 'none';\n",
              "\n",
              "        async function convertToInteractive(key) {\n",
              "          const element = document.querySelector('#df-34a69b69-7bad-48a3-ada6-049295767286');\n",
              "          const dataTable =\n",
              "            await google.colab.kernel.invokeFunction('convertToInteractive',\n",
              "                                                     [key], {});\n",
              "          if (!dataTable) return;\n",
              "\n",
              "          const docLinkHtml = 'Like what you see? Visit the ' +\n",
              "            '<a target=\"_blank\" href=https://colab.research.google.com/notebooks/data_table.ipynb>data table notebook</a>'\n",
              "            + ' to learn more about interactive tables.';\n",
              "          element.innerHTML = '';\n",
              "          dataTable['output_type'] = 'display_data';\n",
              "          await google.colab.output.renderOutput(dataTable, element);\n",
              "          const docLink = document.createElement('div');\n",
              "          docLink.innerHTML = docLinkHtml;\n",
              "          element.appendChild(docLink);\n",
              "        }\n",
              "      </script>\n",
              "    </div>\n",
              "  </div>\n",
              "  "
            ],
            "text/plain": [
              "       Jenis_Kelamin           Umur  ...  Lama_Berlangganan       Tertarik\n",
              "count  285831.000000  285831.000000  ...      285831.000000  285831.000000\n",
              "mean        0.563683      38.844336  ...         154.286302       0.122471\n",
              "std         0.495929      15.131608  ...          81.620684       0.327830\n",
              "min         0.000000      20.000000  ...          10.000000       0.000000\n",
              "25%         0.000000      25.000000  ...          85.000000       0.000000\n",
              "50%         1.000000      38.000000  ...         154.286302       0.000000\n",
              "75%         1.000000      49.000000  ...         223.000000       0.000000\n",
              "max         1.000000      85.000000  ...         299.000000       1.000000\n",
              "\n",
              "[8 rows x 11 columns]"
            ]
          },
          "metadata": {},
          "execution_count": 13
        }
      ]
    },
    {
      "cell_type": "code",
      "metadata": {
        "id": "XR_npVrB6Vvh",
        "colab": {
          "base_uri": "https://localhost:8080/"
        },
        "outputId": "882723fe-4435-4028-b010-2db8eabe5617"
      },
      "source": [
        "data_train.isna().sum()"
      ],
      "execution_count": null,
      "outputs": [
        {
          "output_type": "execute_result",
          "data": {
            "text/plain": [
              "Jenis_Kelamin        0\n",
              "Umur                 0\n",
              "SIM                  0\n",
              "Kode_Daerah          0\n",
              "Sudah_Asuransi       0\n",
              "Umur_Kendaraan       0\n",
              "Kendaraan_Rusak      0\n",
              "Premi                0\n",
              "Kanal_Penjualan      0\n",
              "Lama_Berlangganan    0\n",
              "Tertarik             0\n",
              "dtype: int64"
            ]
          },
          "metadata": {},
          "execution_count": 14
        }
      ]
    },
    {
      "cell_type": "code",
      "source": [
        "sns.heatmap(data_train.isnull(),yticklabels=False,cbar=False)"
      ],
      "metadata": {
        "colab": {
          "base_uri": "https://localhost:8080/",
          "height": 375
        },
        "id": "tzZyj0NPz00R",
        "outputId": "82f4c487-0197-4818-deb7-6bbc8670938c"
      },
      "execution_count": null,
      "outputs": [
        {
          "output_type": "execute_result",
          "data": {
            "text/plain": [
              "<matplotlib.axes._subplots.AxesSubplot at 0x7f3355ea2090>"
            ]
          },
          "metadata": {},
          "execution_count": 15
        },
        {
          "output_type": "display_data",
          "data": {
            "image/png": "[encoded data removed]",
            "text/plain": [
              "<Figure size 432x288 with 1 Axes>"
            ]
          },
          "metadata": {
            "needs_background": "light"
          }
        }
      ]
    },
    {
      "cell_type": "markdown",
      "source": [
        "## Dealing with Duplicate Value\n",
        "\n",
        "\n",
        "\n"
      ],
      "metadata": {
        "id": "px7g8heprQgp"
      }
    },
    {
      "cell_type": "code",
      "source": [
        "#Jumlah data Duplikat\n",
        "data_train.duplicated().sum()"
      ],
      "metadata": {
        "colab": {
          "base_uri": "https://localhost:8080/"
        },
        "id": "cHIjNzLWrXFu",
        "outputId": "6b96edda-7d02-459c-ac1a-78a238129958"
      },
      "execution_count": null,
      "outputs": [
        {
          "output_type": "execute_result",
          "data": {
            "text/plain": [
              "327"
            ]
          },
          "metadata": {},
          "execution_count": 16
        }
      ]
    },
    {
      "cell_type": "code",
      "source": [
        "# Menghapus Data duplikat\n",
        "data_train = data_train.drop_duplicates()\n",
        "data_train.duplicated().sum()"
      ],
      "metadata": {
        "colab": {
          "base_uri": "https://localhost:8080/"
        },
        "id": "OQSw-HsjsDYj",
        "outputId": "57f07496-d16c-4a0b-d71e-8390ee77ee2b"
      },
      "execution_count": null,
      "outputs": [
        {
          "output_type": "execute_result",
          "data": {
            "text/plain": [
              "0"
            ]
          },
          "metadata": {},
          "execution_count": 17
        }
      ]
    },
    {
      "cell_type": "code",
      "source": [
        "data_train.shape"
      ],
      "metadata": {
        "colab": {
          "base_uri": "https://localhost:8080/"
        },
        "id": "dNDoPu3ntJ4L",
        "outputId": "7fee1604-4ae0-4918-a702-be15d3064c3e"
      },
      "execution_count": null,
      "outputs": [
        {
          "output_type": "execute_result",
          "data": {
            "text/plain": [
              "(285504, 11)"
            ]
          },
          "metadata": {},
          "execution_count": 18
        }
      ]
    },
    {
      "cell_type": "markdown",
      "source": [
        "## Data Visualitation"
      ],
      "metadata": {
        "id": "ph6lpxNiuzAw"
      }
    },
    {
      "cell_type": "code",
      "source": [
        "sns.pairplot(data_train,hue=\"Tertarik\")"
      ],
      "metadata": {
        "id": "eFpVIgkX_vE9"
      },
      "execution_count": null,
      "outputs": []
    },
    {
      "cell_type": "markdown",
      "source": [
        "## Dealing with Outliers"
      ],
      "metadata": {
        "id": "WWpFCNyQ0Vk1"
      }
    },
    {
      "cell_type": "markdown",
      "source": [
        "### Mendeteksi Outlier"
      ],
      "metadata": {
        "id": "EO5IXHfb0x7_"
      }
    },
    {
      "cell_type": "code",
      "source": [
        "# Scaling data untuk membandingkan Boxplot\n",
        "scaler = MinMaxScaler()\n",
        "scaler.fit(data_train)\n",
        "scaled_data = scaler.transform(data_train)\n",
        "scaled_data = pd.DataFrame(scaled_data, columns=data_train.columns)\n",
        "scaled_data"
      ],
      "metadata": {
        "colab": {
          "base_uri": "https://localhost:8080/",
          "height": 488
        },
        "id": "yGu1Ul8rnCVD",
        "outputId": "6ac8fe49-ceae-408e-f605-abff0c25965b"
      },
      "execution_count": null,
      "outputs": [
        {
          "output_type": "execute_result",
          "data": {
            "text/html": [
              "\n",
              "  <div id=\"df-5fc1b217-a0a6-4e49-873a-1908266e58fe\">\n",
              "    <div class=\"colab-df-container\">\n",
              "      <div>\n",
              "<style scoped>\n",
              "    .dataframe tbody tr th:only-of-type {\n",
              "        vertical-align: middle;\n",
              "    }\n",
              "\n",
              "    .dataframe tbody tr th {\n",
              "        vertical-align: top;\n",
              "    }\n",
              "\n",
              "    .dataframe thead th {\n",
              "        text-align: right;\n",
              "    }\n",
              "</style>\n",
              "<table border=\"1\" class=\"dataframe\">\n",
              "  <thead>\n",
              "    <tr style=\"text-align: right;\">\n",
              "      <th></th>\n",
              "      <th>Jenis_Kelamin</th>\n",
              "      <th>Umur</th>\n",
              "      <th>SIM</th>\n",
              "      <th>Kode_Daerah</th>\n",
              "      <th>Sudah_Asuransi</th>\n",
              "      <th>Umur_Kendaraan</th>\n",
              "      <th>Kendaraan_Rusak</th>\n",
              "      <th>Premi</th>\n",
              "      <th>Kanal_Penjualan</th>\n",
              "      <th>Lama_Berlangganan</th>\n",
              "      <th>Tertarik</th>\n",
              "    </tr>\n",
              "  </thead>\n",
              "  <tbody>\n",
              "    <tr>\n",
              "      <th>0</th>\n",
              "      <td>0.0</td>\n",
              "      <td>0.153846</td>\n",
              "      <td>1.0</td>\n",
              "      <td>0.634615</td>\n",
              "      <td>1.0</td>\n",
              "      <td>0.0</td>\n",
              "      <td>0.0</td>\n",
              "      <td>0.047251</td>\n",
              "      <td>0.932099</td>\n",
              "      <td>0.301038</td>\n",
              "      <td>0.0</td>\n",
              "    </tr>\n",
              "    <tr>\n",
              "      <th>1</th>\n",
              "      <td>1.0</td>\n",
              "      <td>0.430769</td>\n",
              "      <td>1.0</td>\n",
              "      <td>0.750000</td>\n",
              "      <td>0.0</td>\n",
              "      <td>1.0</td>\n",
              "      <td>1.0</td>\n",
              "      <td>0.043104</td>\n",
              "      <td>0.172840</td>\n",
              "      <td>0.512111</td>\n",
              "      <td>0.0</td>\n",
              "    </tr>\n",
              "    <tr>\n",
              "      <th>2</th>\n",
              "      <td>1.0</td>\n",
              "      <td>0.015385</td>\n",
              "      <td>1.0</td>\n",
              "      <td>0.884615</td>\n",
              "      <td>1.0</td>\n",
              "      <td>0.0</td>\n",
              "      <td>0.0</td>\n",
              "      <td>0.056002</td>\n",
              "      <td>0.981481</td>\n",
              "      <td>0.377163</td>\n",
              "      <td>0.0</td>\n",
              "    </tr>\n",
              "    <tr>\n",
              "      <th>3</th>\n",
              "      <td>0.0</td>\n",
              "      <td>0.584615</td>\n",
              "      <td>1.0</td>\n",
              "      <td>0.923077</td>\n",
              "      <td>0.0</td>\n",
              "      <td>0.5</td>\n",
              "      <td>0.0</td>\n",
              "      <td>0.000000</td>\n",
              "      <td>0.759259</td>\n",
              "      <td>0.183391</td>\n",
              "      <td>0.0</td>\n",
              "    </tr>\n",
              "    <tr>\n",
              "      <th>4</th>\n",
              "      <td>1.0</td>\n",
              "      <td>0.461538</td>\n",
              "      <td>1.0</td>\n",
              "      <td>0.673077</td>\n",
              "      <td>0.0</td>\n",
              "      <td>1.0</td>\n",
              "      <td>1.0</td>\n",
              "      <td>0.059953</td>\n",
              "      <td>0.537037</td>\n",
              "      <td>0.636678</td>\n",
              "      <td>0.0</td>\n",
              "    </tr>\n",
              "    <tr>\n",
              "      <th>...</th>\n",
              "      <td>...</td>\n",
              "      <td>...</td>\n",
              "      <td>...</td>\n",
              "      <td>...</td>\n",
              "      <td>...</td>\n",
              "      <td>...</td>\n",
              "      <td>...</td>\n",
              "      <td>...</td>\n",
              "      <td>...</td>\n",
              "      <td>...</td>\n",
              "      <td>...</td>\n",
              "    </tr>\n",
              "    <tr>\n",
              "      <th>285499</th>\n",
              "      <td>0.0</td>\n",
              "      <td>0.046154</td>\n",
              "      <td>1.0</td>\n",
              "      <td>0.076923</td>\n",
              "      <td>1.0</td>\n",
              "      <td>0.0</td>\n",
              "      <td>0.0</td>\n",
              "      <td>0.043454</td>\n",
              "      <td>0.932099</td>\n",
              "      <td>0.716263</td>\n",
              "      <td>0.0</td>\n",
              "    </tr>\n",
              "    <tr>\n",
              "      <th>285500</th>\n",
              "      <td>0.0</td>\n",
              "      <td>0.015385</td>\n",
              "      <td>1.0</td>\n",
              "      <td>0.884615</td>\n",
              "      <td>1.0</td>\n",
              "      <td>0.0</td>\n",
              "      <td>0.0</td>\n",
              "      <td>0.078239</td>\n",
              "      <td>0.932099</td>\n",
              "      <td>0.138408</td>\n",
              "      <td>0.0</td>\n",
              "    </tr>\n",
              "    <tr>\n",
              "      <th>285501</th>\n",
              "      <td>0.0</td>\n",
              "      <td>0.046154</td>\n",
              "      <td>1.0</td>\n",
              "      <td>0.961538</td>\n",
              "      <td>1.0</td>\n",
              "      <td>0.0</td>\n",
              "      <td>0.0</td>\n",
              "      <td>0.087661</td>\n",
              "      <td>0.932099</td>\n",
              "      <td>0.747405</td>\n",
              "      <td>0.0</td>\n",
              "    </tr>\n",
              "    <tr>\n",
              "      <th>285502</th>\n",
              "      <td>1.0</td>\n",
              "      <td>0.738462</td>\n",
              "      <td>1.0</td>\n",
              "      <td>0.134615</td>\n",
              "      <td>1.0</td>\n",
              "      <td>0.5</td>\n",
              "      <td>0.0</td>\n",
              "      <td>0.051853</td>\n",
              "      <td>0.759259</td>\n",
              "      <td>0.899654</td>\n",
              "      <td>0.0</td>\n",
              "    </tr>\n",
              "    <tr>\n",
              "      <th>285503</th>\n",
              "      <td>1.0</td>\n",
              "      <td>0.384615</td>\n",
              "      <td>1.0</td>\n",
              "      <td>0.538462</td>\n",
              "      <td>0.0</td>\n",
              "      <td>0.5</td>\n",
              "      <td>1.0</td>\n",
              "      <td>0.062973</td>\n",
              "      <td>0.154321</td>\n",
              "      <td>0.117647</td>\n",
              "      <td>0.0</td>\n",
              "    </tr>\n",
              "  </tbody>\n",
              "</table>\n",
              "<p>285504 rows × 11 columns</p>\n",
              "</div>\n",
              "      <button class=\"colab-df-convert\" onclick=\"convertToInteractive('df-5fc1b217-a0a6-4e49-873a-1908266e58fe')\"\n",
              "              title=\"Convert this dataframe to an interactive table.\"\n",
              "              style=\"display:none;\">\n",
              "        \n",
              "  <svg xmlns=\"http://www.w3.org/2000/svg\" height=\"24px\"viewBox=\"0 0 24 24\"\n",
              "       width=\"24px\">\n",
              "    <path d=\"M0 0h24v24H0V0z\" fill=\"none\"/>\n",
              "    <path d=\"M18.56 5.44l.94 2.06.94-2.06 2.06-.94-2.06-.94-.94-2.06-.94 2.06-2.06.94zm-11 1L8.5 8.5l.94-2.06 2.06-.94-2.06-.94L8.5 2.5l-.94 2.06-2.06.94zm10 10l.94 2.06.94-2.06 2.06-.94-2.06-.94-.94-2.06-.94 2.06-2.06.94z\"/><path d=\"M17.41 7.96l-1.37-1.37c-.4-.4-.92-.59-1.43-.59-.52 0-1.04.2-1.43.59L10.3 9.45l-7.72 7.72c-.78.78-.78 2.05 0 2.83L4 21.41c.39.39.9.59 1.41.59.51 0 1.02-.2 1.41-.59l7.78-7.78 2.81-2.81c.8-.78.8-2.07 0-2.86zM5.41 20L4 18.59l7.72-7.72 1.47 1.35L5.41 20z\"/>\n",
              "  </svg>\n",
              "      </button>\n",
              "      \n",
              "  <style>\n",
              "    .colab-df-container {\n",
              "      display:flex;\n",
              "      flex-wrap:wrap;\n",
              "      gap: 12px;\n",
              "    }\n",
              "\n",
              "    .colab-df-convert {\n",
              "      background-color: #E8F0FE;\n",
              "      border: none;\n",
              "      border-radius: 50%;\n",
              "      cursor: pointer;\n",
              "      display: none;\n",
              "      fill: #1967D2;\n",
              "      height: 32px;\n",
              "      padding: 0 0 0 0;\n",
              "      width: 32px;\n",
              "    }\n",
              "\n",
              "    .colab-df-convert:hover {\n",
              "      background-color: #E2EBFA;\n",
              "      box-shadow: 0px 1px 2px rgba(60, 64, 67, 0.3), 0px 1px 3px 1px rgba(60, 64, 67, 0.15);\n",
              "      fill: #174EA6;\n",
              "    }\n",
              "\n",
              "    [theme=dark] .colab-df-convert {\n",
              "      background-color: #3B4455;\n",
              "      fill: #D2E3FC;\n",
              "    }\n",
              "\n",
              "    [theme=dark] .colab-df-convert:hover {\n",
              "      background-color: #434B5C;\n",
              "      box-shadow: 0px 1px 3px 1px rgba(0, 0, 0, 0.15);\n",
              "      filter: drop-shadow(0px 1px 2px rgba(0, 0, 0, 0.3));\n",
              "      fill: #FFFFFF;\n",
              "    }\n",
              "  </style>\n",
              "\n",
              "      <script>\n",
              "        const buttonEl =\n",
              "          document.querySelector('#df-5fc1b217-a0a6-4e49-873a-1908266e58fe button.colab-df-convert');\n",
              "        buttonEl.style.display =\n",
              "          google.colab.kernel.accessAllowed ? 'block' : 'none';\n",
              "\n",
              "        async function convertToInteractive(key) {\n",
              "          const element = document.querySelector('#df-5fc1b217-a0a6-4e49-873a-1908266e58fe');\n",
              "          const dataTable =\n",
              "            await google.colab.kernel.invokeFunction('convertToInteractive',\n",
              "                                                     [key], {});\n",
              "          if (!dataTable) return;\n",
              "\n",
              "          const docLinkHtml = 'Like what you see? Visit the ' +\n",
              "            '<a target=\"_blank\" href=https://colab.research.google.com/notebooks/data_table.ipynb>data table notebook</a>'\n",
              "            + ' to learn more about interactive tables.';\n",
              "          element.innerHTML = '';\n",
              "          dataTable['output_type'] = 'display_data';\n",
              "          await google.colab.output.renderOutput(dataTable, element);\n",
              "          const docLink = document.createElement('div');\n",
              "          docLink.innerHTML = docLinkHtml;\n",
              "          element.appendChild(docLink);\n",
              "        }\n",
              "      </script>\n",
              "    </div>\n",
              "  </div>\n",
              "  "
            ],
            "text/plain": [
              "        Jenis_Kelamin      Umur  ...  Lama_Berlangganan  Tertarik\n",
              "0                 0.0  0.153846  ...           0.301038       0.0\n",
              "1                 1.0  0.430769  ...           0.512111       0.0\n",
              "2                 1.0  0.015385  ...           0.377163       0.0\n",
              "3                 0.0  0.584615  ...           0.183391       0.0\n",
              "4                 1.0  0.461538  ...           0.636678       0.0\n",
              "...               ...       ...  ...                ...       ...\n",
              "285499            0.0  0.046154  ...           0.716263       0.0\n",
              "285500            0.0  0.015385  ...           0.138408       0.0\n",
              "285501            0.0  0.046154  ...           0.747405       0.0\n",
              "285502            1.0  0.738462  ...           0.899654       0.0\n",
              "285503            1.0  0.384615  ...           0.117647       0.0\n",
              "\n",
              "[285504 rows x 11 columns]"
            ]
          },
          "metadata": {},
          "execution_count": 20
        }
      ]
    },
    {
      "cell_type": "code",
      "source": [
        "pd.DataFrame(scaled_data).drop(columns=['Tertarik']).boxplot(figsize=(20,10))"
      ],
      "metadata": {
        "colab": {
          "base_uri": "https://localhost:8080/",
          "height": 609
        },
        "id": "FNY1Qmx-F9Bz",
        "outputId": "9b8fce77-b02c-46ec-bd85-250b0140bf2a"
      },
      "execution_count": null,
      "outputs": [
        {
          "output_type": "execute_result",
          "data": {
            "text/plain": [
              "<matplotlib.axes._subplots.AxesSubplot at 0x7f335282e850>"
            ]
          },
          "metadata": {},
          "execution_count": 21
        },
        {
          "output_type": "display_data",
          "data": {
            "image/png": "[encoded data removed]",
            "text/plain": [
              "<Figure size 1440x720 with 1 Axes>"
            ]
          },
          "metadata": {
            "needs_background": "light"
          }
        }
      ]
    },
    {
      "cell_type": "code",
      "source": [
        "# Menghilangkan row yang memiliki outlier pada Premi\n",
        "q1 = data_train['Premi'].quantile(0.25)\n",
        "q2 = data_train['Premi'].quantile(0.50)\n",
        "q3 = data_train['Premi'].quantile(0.75)\n",
        "print(\"Q1 = \", q1, \"Q2 = \",q2, \" Q3 = \", q3)\n",
        "\n",
        "iqr = q3 - q1\n",
        "print(\"IQR = \", iqr)\n",
        "\n",
        "lower_tail = q1 - 1.5 * iqr\n",
        "upper_tail = q3 + 1.5 * iqr\n",
        "\n",
        "print(\"Lower Tail = \",lower_tail, \" Upper Tail = \", upper_tail)\n",
        "\n",
        "# data_train['Premi'] =  np.where((data_train[\"Premi\"] > upper_tail), q2 , data_train['Premi'])\n",
        "data_train = data_train.drop(data_train[(data_train[\"Premi\"] > upper_tail) | (data_train[\"Premi\"] < lower_tail)].index)"
      ],
      "metadata": {
        "id": "hLu4x8MQDJlp",
        "colab": {
          "base_uri": "https://localhost:8080/"
        },
        "outputId": "e650f18f-f6f0-48bd-c5b1-f29f34b1501d"
      },
      "execution_count": null,
      "outputs": [
        {
          "output_type": "stream",
          "name": "stdout",
          "text": [
            "Q1 =  24947.0 Q2 =  30965.0  Q3 =  38857.0\n",
            "IQR =  13910.0\n",
            "Lower Tail =  4082.0  Upper Tail =  59722.0\n"
          ]
        }
      ]
    },
    {
      "cell_type": "code",
      "source": [
        "scaler = MinMaxScaler()\n",
        "scaler.fit(data_train)\n",
        "scaled_data = scaler.transform(data_train)\n",
        "scaled_data = pd.DataFrame(scaled_data, columns=data_train.columns)\n",
        "scaled_data"
      ],
      "metadata": {
        "colab": {
          "base_uri": "https://localhost:8080/",
          "height": 380
        },
        "id": "AtPJLut4xpYZ",
        "outputId": "8bee9455-2321-43c2-f80c-30d7cf5e5f64"
      },
      "execution_count": null,
      "outputs": [
        {
          "output_type": "error",
          "ename": "KeyboardInterrupt",
          "evalue": "ignored",
          "traceback": [
            "\u001b[0;31m---------------------------------------------------------------------------\u001b[0m",
            "\u001b[0;31mKeyboardInterrupt\u001b[0m                         Traceback (most recent call last)",
            "\u001b[0;32m<ipython-input-23-5cac7be3dda2>\u001b[0m in \u001b[0;36m<module>\u001b[0;34m()\u001b[0m\n\u001b[1;32m      3\u001b[0m \u001b[0mscaled_data\u001b[0m \u001b[0;34m=\u001b[0m \u001b[0mscaler\u001b[0m\u001b[0;34m.\u001b[0m\u001b[0mtransform\u001b[0m\u001b[0;34m(\u001b[0m\u001b[0mdata_train\u001b[0m\u001b[0;34m)\u001b[0m\u001b[0;34m\u001b[0m\u001b[0;34m\u001b[0m\u001b[0m\n\u001b[1;32m      4\u001b[0m \u001b[0mscaled_data\u001b[0m \u001b[0;34m=\u001b[0m \u001b[0mpd\u001b[0m\u001b[0;34m.\u001b[0m\u001b[0mDataFrame\u001b[0m\u001b[0;34m(\u001b[0m\u001b[0mscaled_data\u001b[0m\u001b[0;34m,\u001b[0m \u001b[0mcolumns\u001b[0m\u001b[0;34m=\u001b[0m\u001b[0mdata_train\u001b[0m\u001b[0;34m.\u001b[0m\u001b[0mcolumns\u001b[0m\u001b[0;34m)\u001b[0m\u001b[0;34m\u001b[0m\u001b[0;34m\u001b[0m\u001b[0m\n\u001b[0;32m----> 5\u001b[0;31m \u001b[0mscaled_data\u001b[0m\u001b[0;34m\u001b[0m\u001b[0;34m\u001b[0m\u001b[0m\n\u001b[0m",
            "\u001b[0;32m/usr/local/lib/python3.7/dist-packages/IPython/core/displayhook.py\u001b[0m in \u001b[0;36m__call__\u001b[0;34m(self, result)\u001b[0m\n\u001b[1;32m    244\u001b[0m             \u001b[0mself\u001b[0m\u001b[0;34m.\u001b[0m\u001b[0mstart_displayhook\u001b[0m\u001b[0;34m(\u001b[0m\u001b[0;34m)\u001b[0m\u001b[0;34m\u001b[0m\u001b[0;34m\u001b[0m\u001b[0m\n\u001b[1;32m    245\u001b[0m             \u001b[0mself\u001b[0m\u001b[0;34m.\u001b[0m\u001b[0mwrite_output_prompt\u001b[0m\u001b[0;34m(\u001b[0m\u001b[0;34m)\u001b[0m\u001b[0;34m\u001b[0m\u001b[0;34m\u001b[0m\u001b[0m\n\u001b[0;32m--> 246\u001b[0;31m             \u001b[0mformat_dict\u001b[0m\u001b[0;34m,\u001b[0m \u001b[0mmd_dict\u001b[0m \u001b[0;34m=\u001b[0m \u001b[0mself\u001b[0m\u001b[0;34m.\u001b[0m\u001b[0mcompute_format_data\u001b[0m\u001b[0;34m(\u001b[0m\u001b[0mresult\u001b[0m\u001b[0;34m)\u001b[0m\u001b[0;34m\u001b[0m\u001b[0;34m\u001b[0m\u001b[0m\n\u001b[0m\u001b[1;32m    247\u001b[0m             \u001b[0mself\u001b[0m\u001b[0;34m.\u001b[0m\u001b[0mupdate_user_ns\u001b[0m\u001b[0;34m(\u001b[0m\u001b[0mresult\u001b[0m\u001b[0;34m)\u001b[0m\u001b[0;34m\u001b[0m\u001b[0;34m\u001b[0m\u001b[0m\n\u001b[1;32m    248\u001b[0m             \u001b[0mself\u001b[0m\u001b[0;34m.\u001b[0m\u001b[0mfill_exec_result\u001b[0m\u001b[0;34m(\u001b[0m\u001b[0mresult\u001b[0m\u001b[0;34m)\u001b[0m\u001b[0;34m\u001b[0m\u001b[0;34m\u001b[0m\u001b[0m\n",
            "\u001b[0;32m/usr/local/lib/python3.7/dist-packages/IPython/core/displayhook.py\u001b[0m in \u001b[0;36mcompute_format_data\u001b[0;34m(self, result)\u001b[0m\n\u001b[1;32m    148\u001b[0m \u001b[0;34m\u001b[0m\u001b[0m\n\u001b[1;32m    149\u001b[0m         \"\"\"\n\u001b[0;32m--> 150\u001b[0;31m         \u001b[0;32mreturn\u001b[0m \u001b[0mself\u001b[0m\u001b[0;34m.\u001b[0m\u001b[0mshell\u001b[0m\u001b[0;34m.\u001b[0m\u001b[0mdisplay_formatter\u001b[0m\u001b[0;34m.\u001b[0m\u001b[0mformat\u001b[0m\u001b[0;34m(\u001b[0m\u001b[0mresult\u001b[0m\u001b[0;34m)\u001b[0m\u001b[0;34m\u001b[0m\u001b[0;34m\u001b[0m\u001b[0m\n\u001b[0m\u001b[1;32m    151\u001b[0m \u001b[0;34m\u001b[0m\u001b[0m\n\u001b[1;32m    152\u001b[0m     \u001b[0;31m# This can be set to True by the write_output_prompt method in a subclass\u001b[0m\u001b[0;34m\u001b[0m\u001b[0;34m\u001b[0m\u001b[0;34m\u001b[0m\u001b[0m\n",
            "\u001b[0;32m/usr/local/lib/python3.7/dist-packages/IPython/core/formatters.py\u001b[0m in \u001b[0;36mformat\u001b[0;34m(self, obj, include, exclude)\u001b[0m\n\u001b[1;32m    171\u001b[0m             \u001b[0mmd\u001b[0m \u001b[0;34m=\u001b[0m \u001b[0;32mNone\u001b[0m\u001b[0;34m\u001b[0m\u001b[0;34m\u001b[0m\u001b[0m\n\u001b[1;32m    172\u001b[0m             \u001b[0;32mtry\u001b[0m\u001b[0;34m:\u001b[0m\u001b[0;34m\u001b[0m\u001b[0;34m\u001b[0m\u001b[0m\n\u001b[0;32m--> 173\u001b[0;31m                 \u001b[0mdata\u001b[0m \u001b[0;34m=\u001b[0m \u001b[0mformatter\u001b[0m\u001b[0;34m(\u001b[0m\u001b[0mobj\u001b[0m\u001b[0;34m)\u001b[0m\u001b[0;34m\u001b[0m\u001b[0;34m\u001b[0m\u001b[0m\n\u001b[0m\u001b[1;32m    174\u001b[0m             \u001b[0;32mexcept\u001b[0m\u001b[0;34m:\u001b[0m\u001b[0;34m\u001b[0m\u001b[0;34m\u001b[0m\u001b[0m\n\u001b[1;32m    175\u001b[0m                 \u001b[0;31m# FIXME: log the exception\u001b[0m\u001b[0;34m\u001b[0m\u001b[0;34m\u001b[0m\u001b[0;34m\u001b[0m\u001b[0m\n",
            "\u001b[0;32m<decorator-gen-2>\u001b[0m in \u001b[0;36m__call__\u001b[0;34m(self, obj)\u001b[0m\n",
            "\u001b[0;32m/usr/local/lib/python3.7/dist-packages/IPython/core/formatters.py\u001b[0m in \u001b[0;36mcatch_format_error\u001b[0;34m(method, self, *args, **kwargs)\u001b[0m\n\u001b[1;32m    215\u001b[0m     \u001b[0;34m\"\"\"show traceback on failed format call\"\"\"\u001b[0m\u001b[0;34m\u001b[0m\u001b[0;34m\u001b[0m\u001b[0m\n\u001b[1;32m    216\u001b[0m     \u001b[0;32mtry\u001b[0m\u001b[0;34m:\u001b[0m\u001b[0;34m\u001b[0m\u001b[0;34m\u001b[0m\u001b[0m\n\u001b[0;32m--> 217\u001b[0;31m         \u001b[0mr\u001b[0m \u001b[0;34m=\u001b[0m \u001b[0mmethod\u001b[0m\u001b[0;34m(\u001b[0m\u001b[0mself\u001b[0m\u001b[0;34m,\u001b[0m \u001b[0;34m*\u001b[0m\u001b[0margs\u001b[0m\u001b[0;34m,\u001b[0m \u001b[0;34m**\u001b[0m\u001b[0mkwargs\u001b[0m\u001b[0;34m)\u001b[0m\u001b[0;34m\u001b[0m\u001b[0;34m\u001b[0m\u001b[0m\n\u001b[0m\u001b[1;32m    218\u001b[0m     \u001b[0;32mexcept\u001b[0m \u001b[0mNotImplementedError\u001b[0m\u001b[0;34m:\u001b[0m\u001b[0;34m\u001b[0m\u001b[0;34m\u001b[0m\u001b[0m\n\u001b[1;32m    219\u001b[0m         \u001b[0;31m# don't warn on NotImplementedErrors\u001b[0m\u001b[0;34m\u001b[0m\u001b[0;34m\u001b[0m\u001b[0;34m\u001b[0m\u001b[0m\n",
            "\u001b[0;32m/usr/local/lib/python3.7/dist-packages/IPython/core/formatters.py\u001b[0m in \u001b[0;36m__call__\u001b[0;34m(self, obj)\u001b[0m\n\u001b[1;32m    332\u001b[0m                 \u001b[0;32mpass\u001b[0m\u001b[0;34m\u001b[0m\u001b[0;34m\u001b[0m\u001b[0m\n\u001b[1;32m    333\u001b[0m             \u001b[0;32melse\u001b[0m\u001b[0;34m:\u001b[0m\u001b[0;34m\u001b[0m\u001b[0;34m\u001b[0m\u001b[0m\n\u001b[0;32m--> 334\u001b[0;31m                 \u001b[0;32mreturn\u001b[0m \u001b[0mprinter\u001b[0m\u001b[0;34m(\u001b[0m\u001b[0mobj\u001b[0m\u001b[0;34m)\u001b[0m\u001b[0;34m\u001b[0m\u001b[0;34m\u001b[0m\u001b[0m\n\u001b[0m\u001b[1;32m    335\u001b[0m             \u001b[0;31m# Finally look for special method names\u001b[0m\u001b[0;34m\u001b[0m\u001b[0;34m\u001b[0m\u001b[0;34m\u001b[0m\u001b[0m\n\u001b[1;32m    336\u001b[0m             \u001b[0mmethod\u001b[0m \u001b[0;34m=\u001b[0m \u001b[0mget_real_method\u001b[0m\u001b[0;34m(\u001b[0m\u001b[0mobj\u001b[0m\u001b[0;34m,\u001b[0m \u001b[0mself\u001b[0m\u001b[0;34m.\u001b[0m\u001b[0mprint_method\u001b[0m\u001b[0;34m)\u001b[0m\u001b[0;34m\u001b[0m\u001b[0;34m\u001b[0m\u001b[0m\n",
            "\u001b[0;32m/usr/local/lib/python3.7/dist-packages/google/colab/_interactive_table_hint_button.py\u001b[0m in \u001b[0;36m_df_formatter_with_interactive_hint\u001b[0;34m(dataframe)\u001b[0m\n\u001b[1;32m    102\u001b[0m     _output_callbacks[convert_func] = _output.register_callback(\n\u001b[1;32m    103\u001b[0m         convert_func, _convert_to_interactive)\n\u001b[0;32m--> 104\u001b[0;31m   \u001b[0;32mreturn\u001b[0m \u001b[0m_get_html\u001b[0m\u001b[0;34m(\u001b[0m\u001b[0mdataframe\u001b[0m\u001b[0;34m,\u001b[0m \u001b[0mkey\u001b[0m\u001b[0;34m)\u001b[0m\u001b[0;34m\u001b[0m\u001b[0;34m\u001b[0m\u001b[0m\n\u001b[0m\u001b[1;32m    105\u001b[0m \u001b[0;34m\u001b[0m\u001b[0m\n\u001b[1;32m    106\u001b[0m \u001b[0;34m\u001b[0m\u001b[0m\n",
            "\u001b[0;32m/usr/local/lib/python3.7/dist-packages/google/colab/_interactive_table_hint_button.py\u001b[0m in \u001b[0;36m_get_html\u001b[0;34m(dataframe, key)\u001b[0m\n\u001b[1;32m    146\u001b[0m       \u001b[0mcss\u001b[0m\u001b[0;34m=\u001b[0m\u001b[0m_HINT_BUTTON_CSS\u001b[0m\u001b[0;34m,\u001b[0m\u001b[0;34m\u001b[0m\u001b[0;34m\u001b[0m\u001b[0m\n\u001b[1;32m    147\u001b[0m       \u001b[0mdata_table_url\u001b[0m\u001b[0;34m=\u001b[0m\u001b[0m_data_table\u001b[0m\u001b[0;34m.\u001b[0m\u001b[0m_DATA_TABLE_HELP_URL\u001b[0m\u001b[0;34m,\u001b[0m\u001b[0;34m\u001b[0m\u001b[0;34m\u001b[0m\u001b[0m\n\u001b[0;32m--> 148\u001b[0;31m       \u001b[0mdf_html\u001b[0m\u001b[0;34m=\u001b[0m\u001b[0mdataframe\u001b[0m\u001b[0;34m.\u001b[0m\u001b[0m_repr_html_\u001b[0m\u001b[0;34m(\u001b[0m\u001b[0;34m)\u001b[0m\u001b[0;34m,\u001b[0m\u001b[0;34m\u001b[0m\u001b[0;34m\u001b[0m\u001b[0m\n\u001b[0m\u001b[1;32m    149\u001b[0m       \u001b[0micon\u001b[0m\u001b[0;34m=\u001b[0m\u001b[0m_ICON_SVG\u001b[0m\u001b[0;34m,\u001b[0m\u001b[0;34m\u001b[0m\u001b[0;34m\u001b[0m\u001b[0m\n\u001b[1;32m    150\u001b[0m       \u001b[0mkey\u001b[0m\u001b[0;34m=\u001b[0m\u001b[0mkey\u001b[0m\u001b[0;34m,\u001b[0m\u001b[0;34m\u001b[0m\u001b[0;34m\u001b[0m\u001b[0m\n",
            "\u001b[0;32m/usr/local/lib/python3.7/dist-packages/pandas/core/frame.py\u001b[0m in \u001b[0;36m_repr_html_\u001b[0;34m(self)\u001b[0m\n\u001b[1;32m    796\u001b[0m                 \u001b[0mrender_links\u001b[0m\u001b[0;34m=\u001b[0m\u001b[0;32mFalse\u001b[0m\u001b[0;34m,\u001b[0m\u001b[0;34m\u001b[0m\u001b[0;34m\u001b[0m\u001b[0m\n\u001b[1;32m    797\u001b[0m             )\n\u001b[0;32m--> 798\u001b[0;31m             \u001b[0;32mreturn\u001b[0m \u001b[0mformatter\u001b[0m\u001b[0;34m.\u001b[0m\u001b[0mto_html\u001b[0m\u001b[0;34m(\u001b[0m\u001b[0mnotebook\u001b[0m\u001b[0;34m=\u001b[0m\u001b[0;32mTrue\u001b[0m\u001b[0;34m)\u001b[0m\u001b[0;34m\u001b[0m\u001b[0;34m\u001b[0m\u001b[0m\n\u001b[0m\u001b[1;32m    799\u001b[0m         \u001b[0;32melse\u001b[0m\u001b[0;34m:\u001b[0m\u001b[0;34m\u001b[0m\u001b[0;34m\u001b[0m\u001b[0m\n\u001b[1;32m    800\u001b[0m             \u001b[0;32mreturn\u001b[0m \u001b[0;32mNone\u001b[0m\u001b[0;34m\u001b[0m\u001b[0;34m\u001b[0m\u001b[0m\n",
            "\u001b[0;32m/usr/local/lib/python3.7/dist-packages/pandas/io/formats/format.py\u001b[0m in \u001b[0;36mto_html\u001b[0;34m(self, buf, encoding, classes, notebook, border)\u001b[0m\n\u001b[1;32m    987\u001b[0m         \u001b[0mKlass\u001b[0m \u001b[0;34m=\u001b[0m \u001b[0mNotebookFormatter\u001b[0m \u001b[0;32mif\u001b[0m \u001b[0mnotebook\u001b[0m \u001b[0;32melse\u001b[0m \u001b[0mHTMLFormatter\u001b[0m\u001b[0;34m\u001b[0m\u001b[0;34m\u001b[0m\u001b[0m\n\u001b[1;32m    988\u001b[0m         return Klass(self, classes=classes, border=border).get_result(\n\u001b[0;32m--> 989\u001b[0;31m             \u001b[0mbuf\u001b[0m\u001b[0;34m=\u001b[0m\u001b[0mbuf\u001b[0m\u001b[0;34m,\u001b[0m \u001b[0mencoding\u001b[0m\u001b[0;34m=\u001b[0m\u001b[0mencoding\u001b[0m\u001b[0;34m\u001b[0m\u001b[0;34m\u001b[0m\u001b[0m\n\u001b[0m\u001b[1;32m    990\u001b[0m         )\n\u001b[1;32m    991\u001b[0m \u001b[0;34m\u001b[0m\u001b[0m\n",
            "\u001b[0;32m/usr/local/lib/python3.7/dist-packages/pandas/io/formats/format.py\u001b[0m in \u001b[0;36mget_result\u001b[0;34m(self, buf, encoding)\u001b[0m\n\u001b[1;32m    518\u001b[0m         \"\"\"\n\u001b[1;32m    519\u001b[0m         \u001b[0;32mwith\u001b[0m \u001b[0mself\u001b[0m\u001b[0;34m.\u001b[0m\u001b[0mget_buffer\u001b[0m\u001b[0;34m(\u001b[0m\u001b[0mbuf\u001b[0m\u001b[0;34m,\u001b[0m \u001b[0mencoding\u001b[0m\u001b[0;34m=\u001b[0m\u001b[0mencoding\u001b[0m\u001b[0;34m)\u001b[0m \u001b[0;32mas\u001b[0m \u001b[0mf\u001b[0m\u001b[0;34m:\u001b[0m\u001b[0;34m\u001b[0m\u001b[0;34m\u001b[0m\u001b[0m\n\u001b[0;32m--> 520\u001b[0;31m             \u001b[0mself\u001b[0m\u001b[0;34m.\u001b[0m\u001b[0mwrite_result\u001b[0m\u001b[0;34m(\u001b[0m\u001b[0mbuf\u001b[0m\u001b[0;34m=\u001b[0m\u001b[0mf\u001b[0m\u001b[0;34m)\u001b[0m\u001b[0;34m\u001b[0m\u001b[0;34m\u001b[0m\u001b[0m\n\u001b[0m\u001b[1;32m    521\u001b[0m             \u001b[0;32mif\u001b[0m \u001b[0mbuf\u001b[0m \u001b[0;32mis\u001b[0m \u001b[0;32mNone\u001b[0m\u001b[0;34m:\u001b[0m\u001b[0;34m\u001b[0m\u001b[0;34m\u001b[0m\u001b[0m\n\u001b[1;32m    522\u001b[0m                 \u001b[0;32mreturn\u001b[0m \u001b[0mf\u001b[0m\u001b[0;34m.\u001b[0m\u001b[0mgetvalue\u001b[0m\u001b[0;34m(\u001b[0m\u001b[0;34m)\u001b[0m\u001b[0;34m\u001b[0m\u001b[0;34m\u001b[0m\u001b[0m\n",
            "\u001b[0;32m/usr/local/lib/python3.7/dist-packages/pandas/io/formats/html.py\u001b[0m in \u001b[0;36mwrite_result\u001b[0;34m(self, buf)\u001b[0m\n\u001b[1;32m    201\u001b[0m \u001b[0;34m\u001b[0m\u001b[0m\n\u001b[1;32m    202\u001b[0m     \u001b[0;32mdef\u001b[0m \u001b[0mwrite_result\u001b[0m\u001b[0;34m(\u001b[0m\u001b[0mself\u001b[0m\u001b[0;34m,\u001b[0m \u001b[0mbuf\u001b[0m\u001b[0;34m:\u001b[0m \u001b[0mIO\u001b[0m\u001b[0;34m[\u001b[0m\u001b[0mstr\u001b[0m\u001b[0;34m]\u001b[0m\u001b[0;34m)\u001b[0m \u001b[0;34m->\u001b[0m \u001b[0;32mNone\u001b[0m\u001b[0;34m:\u001b[0m\u001b[0;34m\u001b[0m\u001b[0;34m\u001b[0m\u001b[0m\n\u001b[0;32m--> 203\u001b[0;31m         \u001b[0mbuffer_put_lines\u001b[0m\u001b[0;34m(\u001b[0m\u001b[0mbuf\u001b[0m\u001b[0;34m,\u001b[0m \u001b[0mself\u001b[0m\u001b[0;34m.\u001b[0m\u001b[0mrender\u001b[0m\u001b[0;34m(\u001b[0m\u001b[0;34m)\u001b[0m\u001b[0;34m)\u001b[0m\u001b[0;34m\u001b[0m\u001b[0;34m\u001b[0m\u001b[0m\n\u001b[0m\u001b[1;32m    204\u001b[0m \u001b[0;34m\u001b[0m\u001b[0m\n\u001b[1;32m    205\u001b[0m     \u001b[0;32mdef\u001b[0m \u001b[0m_write_table\u001b[0m\u001b[0;34m(\u001b[0m\u001b[0mself\u001b[0m\u001b[0;34m,\u001b[0m \u001b[0mindent\u001b[0m\u001b[0;34m:\u001b[0m \u001b[0mint\u001b[0m \u001b[0;34m=\u001b[0m \u001b[0;36m0\u001b[0m\u001b[0;34m)\u001b[0m \u001b[0;34m->\u001b[0m \u001b[0;32mNone\u001b[0m\u001b[0;34m:\u001b[0m\u001b[0;34m\u001b[0m\u001b[0;34m\u001b[0m\u001b[0m\n",
            "\u001b[0;32m/usr/local/lib/python3.7/dist-packages/pandas/io/formats/html.py\u001b[0m in \u001b[0;36mrender\u001b[0;34m(self)\u001b[0m\n\u001b[1;32m    605\u001b[0m         \u001b[0mself\u001b[0m\u001b[0;34m.\u001b[0m\u001b[0mwrite\u001b[0m\u001b[0;34m(\u001b[0m\u001b[0;34m\"<div>\"\u001b[0m\u001b[0;34m)\u001b[0m\u001b[0;34m\u001b[0m\u001b[0;34m\u001b[0m\u001b[0m\n\u001b[1;32m    606\u001b[0m         \u001b[0mself\u001b[0m\u001b[0;34m.\u001b[0m\u001b[0mwrite_style\u001b[0m\u001b[0;34m(\u001b[0m\u001b[0;34m)\u001b[0m\u001b[0;34m\u001b[0m\u001b[0;34m\u001b[0m\u001b[0m\n\u001b[0;32m--> 607\u001b[0;31m         \u001b[0msuper\u001b[0m\u001b[0;34m(\u001b[0m\u001b[0;34m)\u001b[0m\u001b[0;34m.\u001b[0m\u001b[0mrender\u001b[0m\u001b[0;34m(\u001b[0m\u001b[0;34m)\u001b[0m\u001b[0;34m\u001b[0m\u001b[0;34m\u001b[0m\u001b[0m\n\u001b[0m\u001b[1;32m    608\u001b[0m         \u001b[0mself\u001b[0m\u001b[0;34m.\u001b[0m\u001b[0mwrite\u001b[0m\u001b[0;34m(\u001b[0m\u001b[0;34m\"</div>\"\u001b[0m\u001b[0;34m)\u001b[0m\u001b[0;34m\u001b[0m\u001b[0;34m\u001b[0m\u001b[0m\n\u001b[1;32m    609\u001b[0m         \u001b[0;32mreturn\u001b[0m \u001b[0mself\u001b[0m\u001b[0;34m.\u001b[0m\u001b[0melements\u001b[0m\u001b[0;34m\u001b[0m\u001b[0;34m\u001b[0m\u001b[0m\n",
            "\u001b[0;32m/usr/local/lib/python3.7/dist-packages/pandas/io/formats/html.py\u001b[0m in \u001b[0;36mrender\u001b[0;34m(self)\u001b[0m\n\u001b[1;32m    190\u001b[0m \u001b[0;34m\u001b[0m\u001b[0m\n\u001b[1;32m    191\u001b[0m     \u001b[0;32mdef\u001b[0m \u001b[0mrender\u001b[0m\u001b[0;34m(\u001b[0m\u001b[0mself\u001b[0m\u001b[0;34m)\u001b[0m \u001b[0;34m->\u001b[0m \u001b[0mList\u001b[0m\u001b[0;34m[\u001b[0m\u001b[0mstr\u001b[0m\u001b[0;34m]\u001b[0m\u001b[0;34m:\u001b[0m\u001b[0;34m\u001b[0m\u001b[0;34m\u001b[0m\u001b[0m\n\u001b[0;32m--> 192\u001b[0;31m         \u001b[0mself\u001b[0m\u001b[0;34m.\u001b[0m\u001b[0m_write_table\u001b[0m\u001b[0;34m(\u001b[0m\u001b[0;34m)\u001b[0m\u001b[0;34m\u001b[0m\u001b[0;34m\u001b[0m\u001b[0m\n\u001b[0m\u001b[1;32m    193\u001b[0m \u001b[0;34m\u001b[0m\u001b[0m\n\u001b[1;32m    194\u001b[0m         \u001b[0;32mif\u001b[0m \u001b[0mself\u001b[0m\u001b[0;34m.\u001b[0m\u001b[0mshould_show_dimensions\u001b[0m\u001b[0;34m:\u001b[0m\u001b[0;34m\u001b[0m\u001b[0;34m\u001b[0m\u001b[0m\n",
            "\u001b[0;32m/usr/local/lib/python3.7/dist-packages/pandas/io/formats/html.py\u001b[0m in \u001b[0;36m_write_table\u001b[0;34m(self, indent)\u001b[0m\n\u001b[1;32m    231\u001b[0m             \u001b[0mself\u001b[0m\u001b[0;34m.\u001b[0m\u001b[0m_write_header\u001b[0m\u001b[0;34m(\u001b[0m\u001b[0mindent\u001b[0m \u001b[0;34m+\u001b[0m \u001b[0mself\u001b[0m\u001b[0;34m.\u001b[0m\u001b[0mindent_delta\u001b[0m\u001b[0;34m)\u001b[0m\u001b[0;34m\u001b[0m\u001b[0;34m\u001b[0m\u001b[0m\n\u001b[1;32m    232\u001b[0m \u001b[0;34m\u001b[0m\u001b[0m\n\u001b[0;32m--> 233\u001b[0;31m         \u001b[0mself\u001b[0m\u001b[0;34m.\u001b[0m\u001b[0m_write_body\u001b[0m\u001b[0;34m(\u001b[0m\u001b[0mindent\u001b[0m \u001b[0;34m+\u001b[0m \u001b[0mself\u001b[0m\u001b[0;34m.\u001b[0m\u001b[0mindent_delta\u001b[0m\u001b[0;34m)\u001b[0m\u001b[0;34m\u001b[0m\u001b[0;34m\u001b[0m\u001b[0m\n\u001b[0m\u001b[1;32m    234\u001b[0m \u001b[0;34m\u001b[0m\u001b[0m\n\u001b[1;32m    235\u001b[0m         \u001b[0mself\u001b[0m\u001b[0;34m.\u001b[0m\u001b[0mwrite\u001b[0m\u001b[0;34m(\u001b[0m\u001b[0;34m\"</table>\"\u001b[0m\u001b[0;34m,\u001b[0m \u001b[0mindent\u001b[0m\u001b[0;34m)\u001b[0m\u001b[0;34m\u001b[0m\u001b[0;34m\u001b[0m\u001b[0m\n",
            "\u001b[0;32m/usr/local/lib/python3.7/dist-packages/pandas/io/formats/html.py\u001b[0m in \u001b[0;36m_write_body\u001b[0;34m(self, indent)\u001b[0m\n\u001b[1;32m    383\u001b[0m             \u001b[0mself\u001b[0m\u001b[0;34m.\u001b[0m\u001b[0m_write_hierarchical_rows\u001b[0m\u001b[0;34m(\u001b[0m\u001b[0mfmt_values\u001b[0m\u001b[0;34m,\u001b[0m \u001b[0mindent\u001b[0m \u001b[0;34m+\u001b[0m \u001b[0mself\u001b[0m\u001b[0;34m.\u001b[0m\u001b[0mindent_delta\u001b[0m\u001b[0;34m)\u001b[0m\u001b[0;34m\u001b[0m\u001b[0;34m\u001b[0m\u001b[0m\n\u001b[1;32m    384\u001b[0m         \u001b[0;32melse\u001b[0m\u001b[0;34m:\u001b[0m\u001b[0;34m\u001b[0m\u001b[0;34m\u001b[0m\u001b[0m\n\u001b[0;32m--> 385\u001b[0;31m             \u001b[0mself\u001b[0m\u001b[0;34m.\u001b[0m\u001b[0m_write_regular_rows\u001b[0m\u001b[0;34m(\u001b[0m\u001b[0mfmt_values\u001b[0m\u001b[0;34m,\u001b[0m \u001b[0mindent\u001b[0m \u001b[0;34m+\u001b[0m \u001b[0mself\u001b[0m\u001b[0;34m.\u001b[0m\u001b[0mindent_delta\u001b[0m\u001b[0;34m)\u001b[0m\u001b[0;34m\u001b[0m\u001b[0;34m\u001b[0m\u001b[0m\n\u001b[0m\u001b[1;32m    386\u001b[0m \u001b[0;34m\u001b[0m\u001b[0m\n\u001b[1;32m    387\u001b[0m         \u001b[0mself\u001b[0m\u001b[0;34m.\u001b[0m\u001b[0mwrite\u001b[0m\u001b[0;34m(\u001b[0m\u001b[0;34m\"</tbody>\"\u001b[0m\u001b[0;34m,\u001b[0m \u001b[0mindent\u001b[0m\u001b[0;34m)\u001b[0m\u001b[0;34m\u001b[0m\u001b[0;34m\u001b[0m\u001b[0m\n",
            "\u001b[0;32m/usr/local/lib/python3.7/dist-packages/pandas/io/formats/html.py\u001b[0m in \u001b[0;36m_write_regular_rows\u001b[0;34m(self, fmt_values, indent)\u001b[0m\n\u001b[1;32m    430\u001b[0m                 \u001b[0mrow\u001b[0m\u001b[0;34m.\u001b[0m\u001b[0minsert\u001b[0m\u001b[0;34m(\u001b[0m\u001b[0mdot_col_ix\u001b[0m\u001b[0;34m,\u001b[0m \u001b[0;34m\"...\"\u001b[0m\u001b[0;34m)\u001b[0m\u001b[0;34m\u001b[0m\u001b[0;34m\u001b[0m\u001b[0m\n\u001b[1;32m    431\u001b[0m             self.write_tr(\n\u001b[0;32m--> 432\u001b[0;31m                 \u001b[0mrow\u001b[0m\u001b[0;34m,\u001b[0m \u001b[0mindent\u001b[0m\u001b[0;34m,\u001b[0m \u001b[0mself\u001b[0m\u001b[0;34m.\u001b[0m\u001b[0mindent_delta\u001b[0m\u001b[0;34m,\u001b[0m \u001b[0mtags\u001b[0m\u001b[0;34m=\u001b[0m\u001b[0;32mNone\u001b[0m\u001b[0;34m,\u001b[0m \u001b[0mnindex_levels\u001b[0m\u001b[0;34m=\u001b[0m\u001b[0mself\u001b[0m\u001b[0;34m.\u001b[0m\u001b[0mrow_levels\u001b[0m\u001b[0;34m\u001b[0m\u001b[0;34m\u001b[0m\u001b[0m\n\u001b[0m\u001b[1;32m    433\u001b[0m             )\n\u001b[1;32m    434\u001b[0m \u001b[0;34m\u001b[0m\u001b[0m\n",
            "\u001b[0;32m/usr/local/lib/python3.7/dist-packages/pandas/io/formats/html.py\u001b[0m in \u001b[0;36mwrite_tr\u001b[0;34m(self, line, indent, indent_delta, header, align, tags, nindex_levels)\u001b[0m\n\u001b[1;32m    184\u001b[0m                 \u001b[0mself\u001b[0m\u001b[0;34m.\u001b[0m\u001b[0mwrite_th\u001b[0m\u001b[0;34m(\u001b[0m\u001b[0ms\u001b[0m\u001b[0;34m,\u001b[0m \u001b[0mindent\u001b[0m\u001b[0;34m=\u001b[0m\u001b[0mindent\u001b[0m\u001b[0;34m,\u001b[0m \u001b[0mheader\u001b[0m\u001b[0;34m=\u001b[0m\u001b[0mheader\u001b[0m\u001b[0;34m,\u001b[0m \u001b[0mtags\u001b[0m\u001b[0;34m=\u001b[0m\u001b[0mval_tag\u001b[0m\u001b[0;34m)\u001b[0m\u001b[0;34m\u001b[0m\u001b[0;34m\u001b[0m\u001b[0m\n\u001b[1;32m    185\u001b[0m             \u001b[0;32melse\u001b[0m\u001b[0;34m:\u001b[0m\u001b[0;34m\u001b[0m\u001b[0;34m\u001b[0m\u001b[0m\n\u001b[0;32m--> 186\u001b[0;31m                 \u001b[0mself\u001b[0m\u001b[0;34m.\u001b[0m\u001b[0mwrite_td\u001b[0m\u001b[0;34m(\u001b[0m\u001b[0ms\u001b[0m\u001b[0;34m,\u001b[0m \u001b[0mindent\u001b[0m\u001b[0;34m,\u001b[0m \u001b[0mtags\u001b[0m\u001b[0;34m=\u001b[0m\u001b[0mval_tag\u001b[0m\u001b[0;34m)\u001b[0m\u001b[0;34m\u001b[0m\u001b[0;34m\u001b[0m\u001b[0m\n\u001b[0m\u001b[1;32m    187\u001b[0m \u001b[0;34m\u001b[0m\u001b[0m\n\u001b[1;32m    188\u001b[0m         \u001b[0mindent\u001b[0m \u001b[0;34m-=\u001b[0m \u001b[0mindent_delta\u001b[0m\u001b[0;34m\u001b[0m\u001b[0;34m\u001b[0m\u001b[0m\n",
            "\u001b[0;32m/usr/local/lib/python3.7/dist-packages/pandas/io/formats/html.py\u001b[0m in \u001b[0;36mwrite_td\u001b[0;34m(self, s, indent, tags)\u001b[0m\n\u001b[1;32m    133\u001b[0m \u001b[0;34m\u001b[0m\u001b[0m\n\u001b[1;32m    134\u001b[0m     \u001b[0;32mdef\u001b[0m \u001b[0mwrite_td\u001b[0m\u001b[0;34m(\u001b[0m\u001b[0mself\u001b[0m\u001b[0;34m,\u001b[0m \u001b[0ms\u001b[0m\u001b[0;34m:\u001b[0m \u001b[0mAny\u001b[0m\u001b[0;34m,\u001b[0m \u001b[0mindent\u001b[0m\u001b[0;34m:\u001b[0m \u001b[0mint\u001b[0m \u001b[0;34m=\u001b[0m \u001b[0;36m0\u001b[0m\u001b[0;34m,\u001b[0m \u001b[0mtags\u001b[0m\u001b[0;34m:\u001b[0m \u001b[0mOptional\u001b[0m\u001b[0;34m[\u001b[0m\u001b[0mstr\u001b[0m\u001b[0;34m]\u001b[0m \u001b[0;34m=\u001b[0m \u001b[0;32mNone\u001b[0m\u001b[0;34m)\u001b[0m \u001b[0;34m->\u001b[0m \u001b[0;32mNone\u001b[0m\u001b[0;34m:\u001b[0m\u001b[0;34m\u001b[0m\u001b[0;34m\u001b[0m\u001b[0m\n\u001b[0;32m--> 135\u001b[0;31m         \u001b[0mself\u001b[0m\u001b[0;34m.\u001b[0m\u001b[0m_write_cell\u001b[0m\u001b[0;34m(\u001b[0m\u001b[0ms\u001b[0m\u001b[0;34m,\u001b[0m \u001b[0mkind\u001b[0m\u001b[0;34m=\u001b[0m\u001b[0;34m\"td\"\u001b[0m\u001b[0;34m,\u001b[0m \u001b[0mindent\u001b[0m\u001b[0;34m=\u001b[0m\u001b[0mindent\u001b[0m\u001b[0;34m,\u001b[0m \u001b[0mtags\u001b[0m\u001b[0;34m=\u001b[0m\u001b[0mtags\u001b[0m\u001b[0;34m)\u001b[0m\u001b[0;34m\u001b[0m\u001b[0;34m\u001b[0m\u001b[0m\n\u001b[0m\u001b[1;32m    136\u001b[0m \u001b[0;34m\u001b[0m\u001b[0m\n\u001b[1;32m    137\u001b[0m     def _write_cell(\n",
            "\u001b[0;32m/usr/local/lib/python3.7/dist-packages/pandas/io/formats/html.py\u001b[0m in \u001b[0;36m_write_cell\u001b[0;34m(self, s, kind, indent, tags)\u001b[0m\n\u001b[1;32m    149\u001b[0m             \u001b[0mesc\u001b[0m \u001b[0;34m=\u001b[0m \u001b[0;34m{\u001b[0m\u001b[0;34m}\u001b[0m\u001b[0;34m\u001b[0m\u001b[0;34m\u001b[0m\u001b[0m\n\u001b[1;32m    150\u001b[0m \u001b[0;34m\u001b[0m\u001b[0m\n\u001b[0;32m--> 151\u001b[0;31m         \u001b[0mrs\u001b[0m \u001b[0;34m=\u001b[0m \u001b[0mpprint_thing\u001b[0m\u001b[0;34m(\u001b[0m\u001b[0ms\u001b[0m\u001b[0;34m,\u001b[0m \u001b[0mescape_chars\u001b[0m\u001b[0;34m=\u001b[0m\u001b[0mesc\u001b[0m\u001b[0;34m)\u001b[0m\u001b[0;34m.\u001b[0m\u001b[0mstrip\u001b[0m\u001b[0;34m(\u001b[0m\u001b[0;34m)\u001b[0m\u001b[0;34m\u001b[0m\u001b[0;34m\u001b[0m\u001b[0m\n\u001b[0m\u001b[1;32m    152\u001b[0m \u001b[0;34m\u001b[0m\u001b[0m\n\u001b[1;32m    153\u001b[0m         \u001b[0;32mif\u001b[0m \u001b[0mself\u001b[0m\u001b[0;34m.\u001b[0m\u001b[0mrender_links\u001b[0m \u001b[0;32mand\u001b[0m \u001b[0mis_url\u001b[0m\u001b[0;34m(\u001b[0m\u001b[0mrs\u001b[0m\u001b[0;34m)\u001b[0m\u001b[0;34m:\u001b[0m\u001b[0;34m\u001b[0m\u001b[0;34m\u001b[0m\u001b[0m\n",
            "\u001b[0;31mKeyboardInterrupt\u001b[0m: "
          ]
        }
      ]
    },
    {
      "cell_type": "code",
      "source": [
        "pd.DataFrame(scaled_data).drop(columns=['Tertarik']).boxplot(figsize=(20,10))"
      ],
      "metadata": {
        "id": "i2I0ZyjOPAqg"
      },
      "execution_count": null,
      "outputs": []
    },
    {
      "cell_type": "markdown",
      "source": [
        "## Data Correlation"
      ],
      "metadata": {
        "id": "X3NqGDKBtbQf"
      }
    },
    {
      "cell_type": "code",
      "metadata": {
        "id": "26WQ4n_XwsKs"
      },
      "source": [
        "data_train.corr()"
      ],
      "execution_count": null,
      "outputs": []
    },
    {
      "cell_type": "code",
      "source": [
        "#Korelasi antar Variabel di visualisasikan menggunakan heatmap\n",
        "plt.figure(figsize=(15,8))\n",
        "sns.heatmap(data_train.corr(), annot=True, vmin=-1, vmax=1)"
      ],
      "metadata": {
        "id": "r-ry27b06jQ_"
      },
      "execution_count": null,
      "outputs": []
    },
    {
      "cell_type": "markdown",
      "source": [
        "## Data Split"
      ],
      "metadata": {
        "id": "Tb4vBZIvmYRf"
      }
    },
    {
      "cell_type": "code",
      "source": [
        "# Splitting Data menjadai X_train, X_test, y_train, y_test\n",
        "data = data_train\n",
        "X, y = data.drop(columns=['Tertarik']).values, data.Tertarik.values\n",
        "X_train, X_test, y_train, y_test = train_test_split( X, y, test_size=0.2)"
      ],
      "metadata": {
        "id": "tYHmMNwitizw"
      },
      "execution_count": null,
      "outputs": []
    },
    {
      "cell_type": "code",
      "source": [
        "plt.figure(figsize=(15,8))\n",
        "sns.countplot(y_train)"
      ],
      "metadata": {
        "id": "Y8xpysFxI26e"
      },
      "execution_count": null,
      "outputs": []
    },
    {
      "cell_type": "markdown",
      "source": [
        "## Data Balancing"
      ],
      "metadata": {
        "id": "1Yqj6fFkTP0U"
      }
    },
    {
      "cell_type": "code",
      "source": [
        "# Combination Balancing\n",
        "over = RandomOverSampler(sampling_strategy=0.3)\n",
        "X_train, y_train = over.fit_resample(X_train, y_train)\n",
        "\n",
        "under = RandomUnderSampler(sampling_strategy=0.7)\n",
        "\n",
        "X_train, y_train = under.fit_resample(X_train, y_train)"
      ],
      "metadata": {
        "id": "E7Sr6jzYyzm-"
      },
      "execution_count": null,
      "outputs": []
    },
    {
      "cell_type": "code",
      "source": [
        "# Oversampling Balancing data train menggunakan metode resample SMOTE\n",
        "# X_train, y_train = SMOTE().fit_resample(X_train, y_train)"
      ],
      "metadata": {
        "id": "-86HNU7LShOY"
      },
      "execution_count": null,
      "outputs": []
    },
    {
      "cell_type": "code",
      "source": [
        "plt.figure(figsize=(15,8))\n",
        "sns.countplot(y_train)"
      ],
      "metadata": {
        "id": "42CoCbIqSiH-"
      },
      "execution_count": null,
      "outputs": []
    },
    {
      "cell_type": "markdown",
      "source": [
        "## Normalizing Data for Model"
      ],
      "metadata": {
        "id": "fyXMlKinY3Fg"
      }
    },
    {
      "cell_type": "code",
      "source": [
        "# Normalisasi Data\n",
        "scaler.fit_transform(X_train)\n",
        "X_train = scaler.fit_transform(X_train)\n",
        "\n",
        "scaler.fit(X_test)\n",
        "X_test = scaler.transform(X_test)"
      ],
      "metadata": {
        "id": "G7Stj4hETN-z"
      },
      "execution_count": null,
      "outputs": []
    },
    {
      "cell_type": "code",
      "source": [
        "X_train.shape"
      ],
      "metadata": {
        "id": "Aw6YHUqy14Mi"
      },
      "execution_count": null,
      "outputs": []
    },
    {
      "cell_type": "markdown",
      "source": [
        "# Random Forest Balanced Model"
      ],
      "metadata": {
        "id": "2nYdYkadUrF6"
      }
    },
    {
      "cell_type": "markdown",
      "source": [
        "## Model Tuning"
      ],
      "metadata": {
        "id": "VLZKmln9wAAc"
      }
    },
    {
      "cell_type": "code",
      "source": [
        "# Jumlah tree pada random Forest\n",
        "n_estimators = [50, 100, 200, 300]\n",
        "# Jumlah Feature untuk dipertimbagkan pada setiap split\n",
        "max_features = [0.5,'sqrt']\n",
        "# Jumlah maximum kedalaman tree\n",
        "max_depth = [24, 26, 28, 30]\n",
        "# Jumlah minimum sample yang diperlukan untuk melakukan split\n",
        "min_samples_split = [2]\n",
        "# Jumlah minimum sample untuk setiap leaf\n",
        "min_samples_leaf = [1, 2 ,3]\n",
        "# Voting\n",
        "bootstrap = [True]\n",
        "\n",
        "# Create the param grid\n",
        "param_grid = {'n_estimators': n_estimators,\n",
        "               'max_features': max_features,\n",
        "               'max_depth': max_depth,\n",
        "               'min_samples_split': min_samples_split,\n",
        "               'min_samples_leaf': min_samples_leaf,\n",
        "               'bootstrap': bootstrap}"
      ],
      "metadata": {
        "id": "qOrW1Nkts7mo"
      },
      "execution_count": null,
      "outputs": []
    },
    {
      "cell_type": "code",
      "source": [
        "model = RandomForestClassifier()\n",
        "\n",
        "grid = GridSearchCV(estimator = model, param_grid = param_grid, cv = 5, verbose=4, n_jobs = -1)\n",
        "grid.fit(X_train, y_train)"
      ],
      "metadata": {
        "id": "TVUPAH0vUtFg",
        "colab": {
          "base_uri": "https://localhost:8080/"
        },
        "outputId": "6b7d7cd5-c6a8-4d7d-a4e2-6035da7564ad"
      },
      "execution_count": null,
      "outputs": [
        {
          "output_type": "stream",
          "name": "stdout",
          "text": [
            "Fitting 5 folds for each of 96 candidates, totalling 480 fits\n"
          ]
        },
        {
          "output_type": "execute_result",
          "data": {
            "text/plain": [
              "GridSearchCV(cv=5, estimator=RandomForestClassifier(), n_jobs=-1,\n",
              "             param_grid={'bootstrap': [True], 'max_depth': [24, 26, 28, 30],\n",
              "                         'max_features': [0.5, 'sqrt'],\n",
              "                         'min_samples_leaf': [1, 2, 3],\n",
              "                         'min_samples_split': [2],\n",
              "                         'n_estimators': [50, 100, 200, 300]},\n",
              "             verbose=4)"
            ]
          },
          "metadata": {},
          "execution_count": 163
        }
      ]
    },
    {
      "cell_type": "markdown",
      "source": [
        "![image.png](data:image/png;base64,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)"
      ],
      "metadata": {
        "id": "2ju3cBRlVgG4"
      }
    },
    {
      "cell_type": "code",
      "source": [
        "grid.best_params_"
      ],
      "metadata": {
        "id": "WSlHltGstYzI",
        "colab": {
          "base_uri": "https://localhost:8080/"
        },
        "outputId": "6f83ca90-1e61-497b-e86e-12b2f3139138"
      },
      "execution_count": null,
      "outputs": [
        {
          "output_type": "execute_result",
          "data": {
            "text/plain": [
              "{'bootstrap': True,\n",
              " 'max_depth': 30,\n",
              " 'max_features': 0.5,\n",
              " 'min_samples_leaf': 1,\n",
              " 'min_samples_split': 2,\n",
              " 'n_estimators': 50}"
            ]
          },
          "metadata": {},
          "execution_count": 164
        }
      ]
    },
    {
      "cell_type": "markdown",
      "source": [
        "## Training Model"
      ],
      "metadata": {
        "id": "5ko2hlF4wFJx"
      }
    },
    {
      "cell_type": "code",
      "source": [
        "final_model = RandomForestClassifier(max_depth=30,max_features=0.5, min_samples_leaf=1,min_samples_split=2, n_estimators=50,bootstrap=True)"
      ],
      "metadata": {
        "id": "OMQiYNJsA7h_"
      },
      "execution_count": null,
      "outputs": []
    },
    {
      "cell_type": "code",
      "source": [
        "final_model.fit(X_train, y_train)"
      ],
      "metadata": {
        "id": "iqwvayhisy8h",
        "colab": {
          "base_uri": "https://localhost:8080/"
        },
        "outputId": "55baa007-e7ef-4735-e6de-35f3c350d81e"
      },
      "execution_count": null,
      "outputs": [
        {
          "output_type": "execute_result",
          "data": {
            "text/plain": [
              "RandomForestClassifier(max_depth=30, max_features=0.5, n_estimators=50)"
            ]
          },
          "metadata": {},
          "execution_count": 249
        }
      ]
    },
    {
      "cell_type": "markdown",
      "source": [
        "# Evaluasi Random Forest Balanced Model "
      ],
      "metadata": {
        "id": "V14XHubvwJP6"
      }
    },
    {
      "cell_type": "markdown",
      "source": [
        "## Split test Prediction Data"
      ],
      "metadata": {
        "id": "-X0TT2hlxj-K"
      }
    },
    {
      "cell_type": "code",
      "source": [
        "y_pred = final_model.predict(X_test)"
      ],
      "metadata": {
        "id": "m5WznF_GVYwT"
      },
      "execution_count": null,
      "outputs": []
    },
    {
      "cell_type": "code",
      "source": [
        "print(\"Accuracy:\", metrics.accuracy_score(y_test, y_pred))"
      ],
      "metadata": {
        "id": "EInx6Z6rZJxV",
        "colab": {
          "base_uri": "https://localhost:8080/"
        },
        "outputId": "4bf899f6-e00a-4075-bfba-e2b4f492c9ac"
      },
      "execution_count": null,
      "outputs": [
        {
          "output_type": "stream",
          "name": "stdout",
          "text": [
            "Accuracy: 0.7896482935079578\n"
          ]
        }
      ]
    },
    {
      "cell_type": "code",
      "source": [
        "print(\"Jumlah Prediksi Tidak Tertarik = \",pd.DataFrame(y_pred).value_counts()[0])\n",
        "print(\"Jumlah Prediksi Tertarik = \",pd.DataFrame(y_pred).value_counts()[1]) "
      ],
      "metadata": {
        "id": "WVSgrqPAdFOd",
        "colab": {
          "base_uri": "https://localhost:8080/"
        },
        "outputId": "93bbc351-f794-40cc-e70b-d8137d7aa854"
      },
      "execution_count": null,
      "outputs": [
        {
          "output_type": "stream",
          "name": "stdout",
          "text": [
            "Jumlah Prediksi Tidak Tertarik =  34729\n",
            "Jumlah Prediksi Tertarik =  11389\n"
          ]
        }
      ]
    },
    {
      "cell_type": "code",
      "source": [
        "data = {\n",
        "    'y_Actual': y_test,\n",
        "    'y_Predicted':y_pred\n",
        "}\n",
        "df = pd.DataFrame(data, columns=['y_Actual','y_Predicted'])\n",
        "confusion_matrix = pd.crosstab(df['y_Actual'], df['y_Predicted'], rownames=['Actual'], colnames=['Predicted'])\n",
        "plt.figure(figsize=(15,8))\n",
        "sns.heatmap(confusion_matrix, annot=True)\n",
        "plt.show()"
      ],
      "metadata": {
        "id": "WavG_W2pv5fX",
        "colab": {
          "base_uri": "https://localhost:8080/",
          "height": 496
        },
        "outputId": "2824e46e-fd96-4e20-ee01-83b573b56155"
      },
      "execution_count": null,
      "outputs": [
        {
          "output_type": "display_data",
          "data": {
            "text/plain": [
              "<Figure size 1080x576 with 2 Axes>"
            ],
            "image/png": "[encoded data removed]"
          },
          "metadata": {
            "needs_background": "light"
          }
        }
      ]
    },
    {
      "cell_type": "code",
      "source": [
        "print(metrics.classification_report(data['y_Actual'], data['y_Predicted'], labels=[0,1]))"
      ],
      "metadata": {
        "id": "uwxHAqMnv-ZY",
        "colab": {
          "base_uri": "https://localhost:8080/"
        },
        "outputId": "01dd20fb-5340-401d-dbb0-eb51b9e2a46d"
      },
      "execution_count": null,
      "outputs": [
        {
          "output_type": "stream",
          "name": "stdout",
          "text": [
            "              precision    recall  f1-score   support\n",
            "\n",
            "           0       0.95      0.81      0.87     40620\n",
            "           1       0.32      0.65      0.43      5498\n",
            "\n",
            "    accuracy                           0.79     46118\n",
            "   macro avg       0.63      0.73      0.65     46118\n",
            "weighted avg       0.87      0.79      0.82     46118\n",
            "\n"
          ]
        }
      ]
    },
    {
      "cell_type": "markdown",
      "source": [
        "## Datasets Test Prediction"
      ],
      "metadata": {
        "id": "oOqltY_Tx-e_"
      }
    },
    {
      "cell_type": "code",
      "source": [
        "X_test2 = data_test.drop(columns=['Tertarik'])\n",
        "y_test2 = data_test['Tertarik']\n",
        "\n",
        "X_test2 = scaler.transform(X_test2)\n",
        "\n",
        "y_pred2 = final_model.predict(X_test2)\n",
        "print(\"Accuracy:\", metrics.accuracy_score(y_test2, y_pred2))"
      ],
      "metadata": {
        "id": "xzCL6So3IzLw",
        "colab": {
          "base_uri": "https://localhost:8080/"
        },
        "outputId": "19d6c587-b160-4ce6-9b61-43b6a52963d6"
      },
      "execution_count": null,
      "outputs": [
        {
          "output_type": "stream",
          "name": "stdout",
          "text": [
            "Accuracy: 0.7871911669010685\n"
          ]
        }
      ]
    },
    {
      "cell_type": "code",
      "source": [
        "print(\"Jumlah Prediksi Tidak Tertarik = \",pd.DataFrame(y_pred2).value_counts()[0])\n",
        "print(\"Jumlah Prediksi Tertarik = \",pd.DataFrame(y_pred2).value_counts()[1]) "
      ],
      "metadata": {
        "id": "oQgVncsmc3kx",
        "colab": {
          "base_uri": "https://localhost:8080/"
        },
        "outputId": "e2a9466b-33a7-4f95-b766-47622bf34a0c"
      },
      "execution_count": null,
      "outputs": [
        {
          "output_type": "stream",
          "name": "stdout",
          "text": [
            "Jumlah Prediksi Tidak Tertarik =  36192\n",
            "Jumlah Prediksi Tertarik =  11447\n"
          ]
        }
      ]
    },
    {
      "cell_type": "code",
      "source": [
        "data_predict2 = {\n",
        "    'y_Actual': y_test2,\n",
        "    'y_Predicted':y_pred2\n",
        "}\n",
        "df = pd.DataFrame(data_predict2, columns=['y_Actual','y_Predicted'])\n",
        "confusion_matrix = pd.crosstab(df['y_Actual'], df['y_Predicted'], rownames=['Actual'], colnames=['Predicted'])\n",
        "plt.figure(figsize=(15,8))\n",
        "sns.heatmap(confusion_matrix, annot=True)\n",
        "plt.show()"
      ],
      "metadata": {
        "id": "PQrzaPcTZGHU",
        "colab": {
          "base_uri": "https://localhost:8080/",
          "height": 496
        },
        "outputId": "8f3f0394-2a5c-43d2-d719-54b6c2a8bf0a"
      },
      "execution_count": null,
      "outputs": [
        {
          "output_type": "display_data",
          "data": {
            "text/plain": [
              "<Figure size 1080x576 with 2 Axes>"
            ],
            "image/png": "[encoded data removed]"
          },
          "metadata": {
            "needs_background": "light"
          }
        }
      ]
    },
    {
      "cell_type": "code",
      "source": [
        "print(metrics.classification_report(data_predict2['y_Actual'], data_predict2['y_Predicted'], labels=[0,1]))"
      ],
      "metadata": {
        "id": "Xy-w5Mrv9Ux4",
        "colab": {
          "base_uri": "https://localhost:8080/"
        },
        "outputId": "1e93a6ca-7356-4147-f6f2-1045b21620b5"
      },
      "execution_count": null,
      "outputs": [
        {
          "output_type": "stream",
          "name": "stdout",
          "text": [
            "              precision    recall  f1-score   support\n",
            "\n",
            "           0       0.94      0.81      0.87     41778\n",
            "           1       0.31      0.61      0.41      5861\n",
            "\n",
            "    accuracy                           0.79     47639\n",
            "   macro avg       0.63      0.71      0.64     47639\n",
            "weighted avg       0.86      0.79      0.81     47639\n",
            "\n"
          ]
        }
      ]
    },
    {
      "cell_type": "markdown",
      "source": [
        "# Random Forest Imbalanced Model"
      ],
      "metadata": {
        "id": "5vdR3aIHy_Go"
      }
    },
    {
      "cell_type": "markdown",
      "source": [
        "## Load Imbalanced Datasets"
      ],
      "metadata": {
        "id": "luHfQid1Xslj"
      }
    },
    {
      "cell_type": "code",
      "source": [
        "# Splitting Data menjadai X_train, X_test, y_train, y_test\n",
        "data = data_train\n",
        "X, y = data.drop(columns=['Tertarik']).values, data.Tertarik.values\n",
        "X_train, X_test, y_train, y_test = train_test_split( X, y, test_size=0.2)"
      ],
      "metadata": {
        "id": "uhoAVgZZy-tX"
      },
      "execution_count": null,
      "outputs": []
    },
    {
      "cell_type": "code",
      "source": [
        "plt.figure(figsize=(15,8))\n",
        "sns.countplot(y_train)"
      ],
      "metadata": {
        "colab": {
          "base_uri": "https://localhost:8080/",
          "height": 556
        },
        "id": "dL_lj1t54_S8",
        "outputId": "aab06398-f5f1-4869-bcab-5e3a6d28747e"
      },
      "execution_count": null,
      "outputs": [
        {
          "output_type": "stream",
          "name": "stderr",
          "text": [
            "C:\\ProgramData\\Anaconda3\\lib\\site-packages\\seaborn\\_decorators.py:36: FutureWarning: Pass the following variable as a keyword arg: x. From version 0.12, the only valid positional argument will be `data`, and passing other arguments without an explicit keyword will result in an error or misinterpretation.\n",
            "  warnings.warn(\n"
          ]
        },
        {
          "output_type": "execute_result",
          "data": {
            "text/plain": [
              "<AxesSubplot:ylabel='count'>"
            ]
          },
          "metadata": {},
          "execution_count": 278
        },
        {
          "output_type": "display_data",
          "data": {
            "text/plain": [
              "<Figure size 1080x576 with 1 Axes>"
            ],
            "image/png": "[encoded data removed]"
          },
          "metadata": {
            "needs_background": "light"
          }
        }
      ]
    },
    {
      "cell_type": "code",
      "source": [
        "# Normalisasi Data\n",
        "scaler.fit_transform(X_train)\n",
        "X_train = scaler.fit_transform(X_train)\n",
        "\n",
        "scaler.fit(X_test)\n",
        "X_test = scaler.transform(X_test)"
      ],
      "metadata": {
        "id": "EuZDk1t-zNJQ"
      },
      "execution_count": null,
      "outputs": []
    },
    {
      "cell_type": "code",
      "source": [
        "X_train.shape"
      ],
      "metadata": {
        "colab": {
          "base_uri": "https://localhost:8080/"
        },
        "id": "f_EPDJU9zdrK",
        "outputId": "82c7a39e-9e6f-4e19-fd1d-0e6771aebca7"
      },
      "execution_count": null,
      "outputs": [
        {
          "output_type": "execute_result",
          "data": {
            "text/plain": [
              "(184469, 10)"
            ]
          },
          "metadata": {},
          "execution_count": 261
        }
      ]
    },
    {
      "cell_type": "markdown",
      "source": [
        "## Model Tuning\n"
      ],
      "metadata": {
        "id": "LCruNihcXp4Z"
      }
    },
    {
      "cell_type": "code",
      "source": [
        "model2 = RandomForestClassifier()\n",
        "\n",
        "grid = GridSearchCV(estimator = model2, param_grid = param_grid, cv = 5, verbose=4, n_jobs = -1)\n",
        "grid.fit(X_train, y_train)"
      ],
      "metadata": {
        "colab": {
          "base_uri": "https://localhost:8080/"
        },
        "id": "C1pVP26i0CX3",
        "outputId": "6c823c47-33e1-44f4-a100-8f95891e96cf"
      },
      "execution_count": null,
      "outputs": [
        {
          "output_type": "stream",
          "name": "stdout",
          "text": [
            "Fitting 5 folds for each of 96 candidates, totalling 480 fits\n"
          ]
        },
        {
          "output_type": "execute_result",
          "data": {
            "text/plain": [
              "GridSearchCV(cv=5, estimator=RandomForestClassifier(), n_jobs=-1,\n",
              "             param_grid={'bootstrap': [True], 'max_depth': [24, 26, 28, 30],\n",
              "                         'max_features': [0.5, 'sqrt'],\n",
              "                         'min_samples_leaf': [1, 2, 3],\n",
              "                         'min_samples_split': [2],\n",
              "                         'n_estimators': [50, 100, 200, 300]},\n",
              "             verbose=4)"
            ]
          },
          "metadata": {},
          "execution_count": 217
        }
      ]
    },
    {
      "cell_type": "code",
      "source": [
        "grid.best_params_"
      ],
      "metadata": {
        "colab": {
          "base_uri": "https://localhost:8080/"
        },
        "id": "3jw6judI0LtE",
        "outputId": "18a4c610-d0f2-45c1-ad2a-7d44852d655e"
      },
      "execution_count": null,
      "outputs": [
        {
          "output_type": "execute_result",
          "data": {
            "text/plain": [
              "{'bootstrap': True,\n",
              " 'max_depth': 24,\n",
              " 'max_features': 'sqrt',\n",
              " 'min_samples_leaf': 3,\n",
              " 'min_samples_split': 2,\n",
              " 'n_estimators': 200}"
            ]
          },
          "metadata": {},
          "execution_count": 218
        }
      ]
    },
    {
      "cell_type": "markdown",
      "source": [
        "## Training Model"
      ],
      "metadata": {
        "id": "eTqpqrbDX7Xy"
      }
    },
    {
      "cell_type": "code",
      "source": [
        "imbalanced_model = RandomForestClassifier(max_depth=24,max_features='sqrt', min_samples_leaf=3,min_samples_split=2, n_estimators=200,bootstrap=True)"
      ],
      "metadata": {
        "id": "hNV5mGWDVZtv"
      },
      "execution_count": null,
      "outputs": []
    },
    {
      "cell_type": "code",
      "source": [
        "imbalanced_model.fit(X_train, y_train)"
      ],
      "metadata": {
        "colab": {
          "base_uri": "https://localhost:8080/"
        },
        "id": "1rlDwD9_VuPW",
        "outputId": "2e74de07-da48-40bb-b24d-e8bf2d76eca4"
      },
      "execution_count": null,
      "outputs": [
        {
          "output_type": "execute_result",
          "data": {
            "text/plain": [
              "RandomForestClassifier(max_depth=24, max_features='sqrt', min_samples_leaf=3,\n",
              "                       n_estimators=200)"
            ]
          },
          "metadata": {},
          "execution_count": 263
        }
      ]
    },
    {
      "cell_type": "markdown",
      "source": [
        "# Evaluasi Random Forest Imbalanced Model"
      ],
      "metadata": {
        "id": "Hk7AqVXRYBma"
      }
    },
    {
      "cell_type": "markdown",
      "source": [
        "## Split Test Prediction data"
      ],
      "metadata": {
        "id": "Sr_8JeTQYP2z"
      }
    },
    {
      "cell_type": "code",
      "source": [
        "y_pred = imbalanced_model.predict(X_test)"
      ],
      "metadata": {
        "id": "KkGTs0k7V4XL"
      },
      "execution_count": null,
      "outputs": []
    },
    {
      "cell_type": "code",
      "source": [
        "print(\"Accuracy:\", metrics.accuracy_score(y_test, y_pred))"
      ],
      "metadata": {
        "colab": {
          "base_uri": "https://localhost:8080/"
        },
        "id": "fVa_Hs0hV-4n",
        "outputId": "ad56e105-fb41-4caf-d8c9-0a82788badd4"
      },
      "execution_count": null,
      "outputs": [
        {
          "output_type": "stream",
          "name": "stdout",
          "text": [
            "Accuracy: 0.8773580814432542\n"
          ]
        }
      ]
    },
    {
      "cell_type": "code",
      "source": [
        "print(\"Jumlah Prediksi Tidak Tertarik = \",pd.DataFrame(y_pred).value_counts()[0])\n",
        "print(\"Jumlah Prediksi Tertarik = \",pd.DataFrame(y_pred).value_counts()[1]) "
      ],
      "metadata": {
        "colab": {
          "base_uri": "https://localhost:8080/"
        },
        "id": "_-6ddTwQWCOJ",
        "outputId": "3ff49135-a6f2-4a03-8e8c-e321dbd13335"
      },
      "execution_count": null,
      "outputs": [
        {
          "output_type": "stream",
          "name": "stdout",
          "text": [
            "Jumlah Prediksi Tidak Tertarik =  45769\n",
            "Jumlah Prediksi Tertarik =  349\n"
          ]
        }
      ]
    },
    {
      "cell_type": "code",
      "source": [
        "data = {\n",
        "    'y_Actual': y_test,\n",
        "    'y_Predicted':y_pred\n",
        "}\n",
        "df = pd.DataFrame(data, columns=['y_Actual','y_Predicted'])\n",
        "confusion_matrix = pd.crosstab(df['y_Actual'], df['y_Predicted'], rownames=['Actual'], colnames=['Predicted'])\n",
        "plt.figure(figsize=(15,8))\n",
        "sns.heatmap(confusion_matrix, annot=True)\n",
        "plt.show()"
      ],
      "metadata": {
        "colab": {
          "base_uri": "https://localhost:8080/",
          "height": 496
        },
        "id": "0bVnWlegWF48",
        "outputId": "d6d698c6-4cdf-41cd-9e2b-add72fc3fdf1"
      },
      "execution_count": null,
      "outputs": [
        {
          "output_type": "display_data",
          "data": {
            "text/plain": [
              "<Figure size 1080x576 with 2 Axes>"
            ],
            "image/png": "[encoded data removed]"
          },
          "metadata": {
            "needs_background": "light"
          }
        }
      ]
    },
    {
      "cell_type": "code",
      "source": [
        "print(metrics.classification_report(data['y_Actual'], data['y_Predicted'], labels=[0,1]))"
      ],
      "metadata": {
        "colab": {
          "base_uri": "https://localhost:8080/"
        },
        "id": "EPGm__f3WNaK",
        "outputId": "eab100d6-fe58-404c-e676-4c1c6941f34a"
      },
      "execution_count": null,
      "outputs": [
        {
          "output_type": "stream",
          "name": "stdout",
          "text": [
            "              precision    recall  f1-score   support\n",
            "\n",
            "           0       0.88      0.99      0.93     40537\n",
            "           1       0.39      0.02      0.05      5581\n",
            "\n",
            "    accuracy                           0.88     46118\n",
            "   macro avg       0.64      0.51      0.49     46118\n",
            "weighted avg       0.82      0.88      0.83     46118\n",
            "\n"
          ]
        }
      ]
    },
    {
      "cell_type": "markdown",
      "source": [
        "## Datasets Tests Prediction"
      ],
      "metadata": {
        "id": "BpWBSBuRYfmP"
      }
    },
    {
      "cell_type": "code",
      "source": [
        "X_test2 = data_test.drop(columns=['Tertarik'])\n",
        "y_test2 = data_test['Tertarik']\n",
        "\n",
        "X_test2 = scaler.transform(X_test2)\n",
        "\n",
        "y_pred2 = imbalanced_model.predict(X_test2)\n",
        "print(\"Accuracy:\", metrics.accuracy_score(y_test2, y_pred2))"
      ],
      "metadata": {
        "colab": {
          "base_uri": "https://localhost:8080/"
        },
        "id": "s5YXz0BDYrqk",
        "outputId": "ba79586c-cacd-4dad-e307-1a662ca77969"
      },
      "execution_count": null,
      "outputs": [
        {
          "output_type": "stream",
          "name": "stdout",
          "text": [
            "Accuracy: 0.8757110770587124\n"
          ]
        }
      ]
    },
    {
      "cell_type": "code",
      "source": [
        "print(\"Jumlah Prediksi Tidak Tertarik = \",pd.DataFrame(y_pred2).value_counts()[0])\n",
        "print(\"Jumlah Prediksi Tertarik = \",pd.DataFrame(y_pred2).value_counts()[1]) "
      ],
      "metadata": {
        "colab": {
          "base_uri": "https://localhost:8080/"
        },
        "id": "3xLqBpbFYvrT",
        "outputId": "e67f83ae-fb4d-4793-993d-e845dd697dc4"
      },
      "execution_count": null,
      "outputs": [
        {
          "output_type": "stream",
          "name": "stdout",
          "text": [
            "Jumlah Prediksi Tidak Tertarik =  47211\n",
            "Jumlah Prediksi Tertarik =  428\n"
          ]
        }
      ]
    },
    {
      "cell_type": "code",
      "source": [
        "data_predict2 = {\n",
        "    'y_Actual': y_test2,\n",
        "    'y_Predicted':y_pred2\n",
        "}\n",
        "df = pd.DataFrame(data_predict2, columns=['y_Actual','y_Predicted'])\n",
        "confusion_matrix = pd.crosstab(df['y_Actual'], df['y_Predicted'], rownames=['Actual'], colnames=['Predicted'])\n",
        "plt.figure(figsize=(15,8))\n",
        "sns.heatmap(confusion_matrix, annot=True)\n",
        "plt.show()"
      ],
      "metadata": {
        "colab": {
          "base_uri": "https://localhost:8080/",
          "height": 496
        },
        "id": "hajLjo8IYyay",
        "outputId": "304bb7a7-4668-4385-aacd-94bda93f8f6c"
      },
      "execution_count": null,
      "outputs": [
        {
          "output_type": "display_data",
          "data": {
            "text/plain": [
              "<Figure size 1080x576 with 2 Axes>"
            ],
            "image/png": "[encoded data removed]"
          },
          "metadata": {
            "needs_background": "light"
          }
        }
      ]
    },
    {
      "cell_type": "code",
      "source": [
        "print(metrics.classification_report(data_predict2['y_Actual'], data_predict2['y_Predicted'], labels=[0,1]))"
      ],
      "metadata": {
        "colab": {
          "base_uri": "https://localhost:8080/"
        },
        "id": "GlSUZYKpY1Z_",
        "outputId": "91449c61-e0e3-487f-fa82-86a55e70c4c0"
      },
      "execution_count": null,
      "outputs": [
        {
          "output_type": "stream",
          "name": "stdout",
          "text": [
            "              precision    recall  f1-score   support\n",
            "\n",
            "           0       0.88      0.99      0.93     41778\n",
            "           1       0.43      0.03      0.06      5861\n",
            "\n",
            "    accuracy                           0.88     47639\n",
            "   macro avg       0.65      0.51      0.50     47639\n",
            "weighted avg       0.82      0.88      0.83     47639\n",
            "\n"
          ]
        }
      ]
    },
    {
      "cell_type": "markdown",
      "source": [
        "# ------------------------"
      ],
      "metadata": {
        "id": "imXUQgWV-84r"
      }
    },
    {
      "cell_type": "code",
      "metadata": {
        "id": "7l6yCfAeFz3A"
      },
      "source": [
        "# def entropy(y):\n",
        "#     y = y.astype(int)\n",
        "#     hist = np.bincount(y)\n",
        "#     ps = hist / len(y)\n",
        "#     return -np.sum([p * np.log2(p) for p in ps if p > 0])\n",
        "\n",
        "# class Node:\n",
        "#     def __init__(self, feature=None, threshold=None, left=None, right=None, *, value=None):\n",
        "#         self.feature = feature\n",
        "#         self.threshold = threshold\n",
        "#         self.left = left\n",
        "#         self.right = right\n",
        "#         self.value = value\n",
        "\n",
        "#     def is_leaf_node(self):\n",
        "#         return self.value is not None\n",
        "\n",
        "# class DecisionTree:\n",
        "#     def __init__(self, min_samples_split=2, max_depth=100, n_feats=None):\n",
        "#         self.min_samples_split = min_samples_split\n",
        "#         self.max_depth = max_depth\n",
        "#         self.n_feats = n_feats\n",
        "#         self.root = None\n",
        "\n",
        "#     def fit(self, X, y):\n",
        "#         self.n_feats = X.shape[1] if not self.n_feats else min(self.n_feats, X.shape[1])\n",
        "#         self.root = self._grow_tree(X, y)\n",
        "\n",
        "#     def predict(self, X):\n",
        "#         return np.array([self._traverse_tree(x, self.root) for x in X])\n",
        "\n",
        "#     def _grow_tree(self, X, y, depth=0):\n",
        "#         n_samples, n_features = X.shape\n",
        "#         n_labels = len(np.unique(y))\n",
        "\n",
        "#         # stopping criteria\n",
        "#         if ( depth >= self.max_depth or n_labels == 1 or n_samples < self.min_samples_split):\n",
        "#             leaf_value = self._most_common_label(y)\n",
        "#             return Node(value=leaf_value)\n",
        "\n",
        "#         feat_idxs = np.random.choice(n_features, self.n_feats, replace=False)\n",
        "\n",
        "#         # greedily select the best split according to information gain\n",
        "#         best_feat, best_thresh = self._best_criteria(X, y, feat_idxs)\n",
        "\n",
        "#         # grow the children that result from the split\n",
        "#         left_idxs, right_idxs = self._split(X[:, best_feat], best_thresh)\n",
        "#         left = self._grow_tree(X[left_idxs, :], y[left_idxs], depth + 1)\n",
        "#         right = self._grow_tree(X[right_idxs, :], y[right_idxs], depth + 1)\n",
        "#         return Node(best_feat, best_thresh, left, right)\n",
        "\n",
        "#     def _best_criteria(self, X, y, feat_idxs):\n",
        "#         best_gain = -1\n",
        "#         split_idx, split_thresh = None, None\n",
        "#         for feat_idx in feat_idxs:\n",
        "#             X_column = X[:, feat_idx]\n",
        "#             thresholds = np.unique(X_column)\n",
        "#             for threshold in thresholds:\n",
        "#                 gain = self._information_gain(y, X_column, threshold)\n",
        "\n",
        "#                 if gain > best_gain:\n",
        "#                     best_gain = gain\n",
        "#                     split_idx = feat_idx\n",
        "#                     split_thresh = threshold\n",
        "\n",
        "#         return split_idx, split_thresh\n",
        "\n",
        "#     def _information_gain(self, y, X_column, split_thresh):\n",
        "#         # parent loss\n",
        "#         parent_entropy = entropy(y)\n",
        "\n",
        "#         # generate split\n",
        "#         left_idxs, right_idxs = self._split(X_column, split_thresh)\n",
        "\n",
        "#         if len(left_idxs) == 0 or len(right_idxs) == 0:\n",
        "#             return 0\n",
        "\n",
        "#         # compute the weighted avg. of the loss for the children\n",
        "#         n = len(y)\n",
        "#         n_l, n_r = len(left_idxs), len(right_idxs)\n",
        "#         e_l, e_r = entropy(y[left_idxs]), entropy(y[right_idxs])\n",
        "#         child_entropy = (n_l / n) * e_l + (n_r / n) * e_r\n",
        "\n",
        "#         # information gain is difference in loss before vs. after split\n",
        "#         ig = parent_entropy - child_entropy\n",
        "#         return ig\n",
        "\n",
        "#     def _split(self, X_column, split_thresh):\n",
        "#         left_idxs = np.argwhere(X_column <= split_thresh).flatten()\n",
        "#         right_idxs = np.argwhere(X_column > split_thresh).flatten()\n",
        "#         return left_idxs, right_idxs\n",
        "\n",
        "#     def _traverse_tree(self, x, node):\n",
        "#         if node.is_leaf_node():\n",
        "#             return node.value\n",
        "\n",
        "#         if x[node.feature] <= node.threshold:\n",
        "#             return self._traverse_tree(x, node.left)\n",
        "#         return self._traverse_tree(x, node.right)\n",
        "\n",
        "#     def _most_common_label(self, y):\n",
        "#         counter = Counter(y)\n",
        "#         most_common = counter.most_common(1)[0][0]\n",
        "#         return most_common\n",
        "\n",
        "# def accuracy(y_true, y_pred):\n",
        "#         accuracy = np.sum(y_true == y_pred) / len(y_true)\n",
        "#         return accuracy"
      ],
      "execution_count": null,
      "outputs": []
    },
    {
      "cell_type": "code",
      "metadata": {
        "id": "pDY1-ExuGi7X"
      },
      "source": [
        "# clf = DecisionTree(max_depth=10)\n",
        "# clf.fit(X_train, y_train)\n",
        "\n",
        "# y_pred = clf.predict(X_test)\n",
        "# acc = accuracy(y_test, y_pred)\n",
        "\n",
        "# print(\"Accuracy:\", acc)"
      ],
      "execution_count": null,
      "outputs": []
    },
    {
      "cell_type": "code",
      "source": [
        "# print(pd.DataFrame(y_pred).value_counts())"
      ],
      "metadata": {
        "id": "o7F1Y91Eobzd"
      },
      "execution_count": null,
      "outputs": []
    },
    {
      "cell_type": "code",
      "metadata": {
        "id": "pNo-XMgPmZ43"
      },
      "source": [
        "# wrong_pred = 0\n",
        "# for i in range(len(y_pred)):\n",
        "#   if y_test[i] != y_pred[i]:\n",
        "#     wrong_pred+=1\n",
        "\n",
        "# print(\"Wrong prediction:\",wrong_pred, \"From\", len(y_pred))"
      ],
      "execution_count": null,
      "outputs": []
    },
    {
      "cell_type": "code",
      "source": [
        "# test2 = data_test.drop(columns=['Tertarik']).to_numpy()\n",
        "# test2_label = data_test['Tertarik']\n",
        "\n",
        "# y_pred_data_test = clf.predict(test2)\n",
        "# acc2 = accuracy(test2_label, y_pred_data_test)\n",
        "\n",
        "# print(\"Accuracy:\", acc2)"
      ],
      "metadata": {
        "id": "WB8AsfKpBsYJ"
      },
      "execution_count": null,
      "outputs": []
    },
    {
      "cell_type": "code",
      "source": [
        "# print(pd.DataFrame(y_pred_data_test).value_counts())"
      ],
      "metadata": {
        "id": "Bbm1LRRnC1X8"
      },
      "execution_count": null,
      "outputs": []
    },
    {
      "cell_type": "code",
      "source": [
        "# wrong_pred = 0\n",
        "# for i in range(len(y_pred_data_test)):\n",
        "#   if test2_label[i] != y_pred_data_test[i]:\n",
        "#     wrong_pred+=1\n",
        "\n",
        "# print(\"Wrong prediction:\",wrong_pred, \"From\", len(y_pred))"
      ],
      "metadata": {
        "id": "TUnzU-SRCoMW"
      },
      "execution_count": null,
      "outputs": []
    }
  ]
}